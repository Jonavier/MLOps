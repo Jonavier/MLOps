{
 "cells": [
  {
   "attachments": {},
   "cell_type": "markdown",
   "metadata": {},
   "source": [
    "# Building classes and methods"
   ]
  },
  {
   "attachments": {},
   "cell_type": "markdown",
   "metadata": {},
   "source": [
    "## Introduction to classes"
   ]
  },
  {
   "attachments": {},
   "cell_type": "markdown",
   "metadata": {},
   "source": [
    "Classes represents one of the most important type of constructs you'll work with alongside functions. In most cases, classes are very similar to functions in how they are created but they do have some difference."
   ]
  },
  {
   "cell_type": "code",
   "execution_count": 1,
   "metadata": {},
   "outputs": [],
   "source": [
    "class Basic:\n",
    "    pass\n",
    "\n",
    "basic = Basic()"
   ]
  },
  {
   "attachments": {},
   "cell_type": "markdown",
   "metadata": {},
   "source": [
    "Use the *dir()* function to find about what is available in a class."
   ]
  },
  {
   "cell_type": "code",
   "execution_count": 2,
   "metadata": {},
   "outputs": [
    {
     "data": {
      "text/plain": [
       "['__class__',\n",
       " '__delattr__',\n",
       " '__dict__',\n",
       " '__dir__',\n",
       " '__doc__',\n",
       " '__eq__',\n",
       " '__format__',\n",
       " '__ge__',\n",
       " '__getattribute__',\n",
       " '__gt__',\n",
       " '__hash__',\n",
       " '__init__',\n",
       " '__init_subclass__',\n",
       " '__le__',\n",
       " '__lt__',\n",
       " '__module__',\n",
       " '__ne__',\n",
       " '__new__',\n",
       " '__reduce__',\n",
       " '__reduce_ex__',\n",
       " '__repr__',\n",
       " '__setattr__',\n",
       " '__sizeof__',\n",
       " '__str__',\n",
       " '__subclasshook__',\n",
       " '__weakref__']"
      ]
     },
     "execution_count": 2,
     "metadata": {},
     "output_type": "execute_result"
    }
   ],
   "source": [
    "dir(basic)"
   ]
  },
  {
   "cell_type": "code",
   "execution_count": 3,
   "metadata": {},
   "outputs": [],
   "source": [
    "class Basic(object):\n",
    "    pass"
   ]
  },
  {
   "attachments": {},
   "cell_type": "markdown",
   "metadata": {},
   "source": [
    "Classes in general are good when grouping code and behavior that can be reused. That type of grouping and behavior is not possible with functions for example."
   ]
  },
  {
   "cell_type": "code",
   "execution_count": 8,
   "metadata": {},
   "outputs": [],
   "source": [
    "class Dog:\n",
    "    is_animal = True # class atribute\n",
    "\n",
    "    def bark(self):\n",
    "        print(\"woof!\")\n",
    "\n",
    "dog = Dog()"
   ]
  },
  {
   "cell_type": "code",
   "execution_count": 9,
   "metadata": {},
   "outputs": [
    {
     "name": "stdout",
     "output_type": "stream",
     "text": [
      "woof!\n"
     ]
    }
   ],
   "source": [
    "dog.bark()"
   ]
  },
  {
   "cell_type": "code",
   "execution_count": 10,
   "metadata": {},
   "outputs": [
    {
     "data": {
      "text/plain": [
       "True"
      ]
     },
     "execution_count": 10,
     "metadata": {},
     "output_type": "execute_result"
    }
   ],
   "source": [
    "dog.is_animal"
   ]
  },
  {
   "cell_type": "code",
   "execution_count": 11,
   "metadata": {},
   "outputs": [
    {
     "name": "stdout",
     "output_type": "stream",
     "text": [
      "woof!\n"
     ]
    }
   ],
   "source": [
    "rufus = Dog()\n",
    "rufus.bark()"
   ]
  },
  {
   "cell_type": "code",
   "execution_count": 12,
   "metadata": {},
   "outputs": [
    {
     "name": "stdout",
     "output_type": "stream",
     "text": [
      "Is rufus an animal? False\n",
      "Is dog an animal? False\n"
     ]
    }
   ],
   "source": [
    "Dog.is_animal = False\n",
    "\n",
    "print(\"Is rufus an animal?\", rufus.is_animal)\n",
    "print(\"Is dog an animal?\", Dog.is_animal)"
   ]
  },
  {
   "cell_type": "code",
   "execution_count": 13,
   "metadata": {},
   "outputs": [
    {
     "data": {
      "text/plain": [
       "False"
      ]
     },
     "execution_count": 13,
     "metadata": {},
     "output_type": "execute_result"
    }
   ],
   "source": [
    "sparky = Dog()\n",
    "sparky.is_animal"
   ]
  },
  {
   "attachments": {},
   "cell_type": "markdown",
   "metadata": {},
   "source": [
    "## Using a consructor"
   ]
  },
  {
   "attachments": {},
   "cell_type": "markdown",
   "metadata": {},
   "source": [
    "The class attributes have potential to cause problems because they change state. A constructor can help with many of those problems, and allows you to set particulars about the object when creating it.\n",
    "\n",
    "A constructor is the ability to set some things, some attributes do some things when the class is getting created.\n",
    "\n",
    "We are going to be using the dunder init."
   ]
  },
  {
   "cell_type": "code",
   "execution_count": 14,
   "metadata": {},
   "outputs": [
    {
     "data": {
      "text/plain": [
       "True"
      ]
     },
     "execution_count": 14,
     "metadata": {},
     "output_type": "execute_result"
    }
   ],
   "source": [
    "class Dog:\n",
    "\n",
    "    def __init__(self):\n",
    "        self.is_animal = True\n",
    "\n",
    "dog = Dog()\n",
    "dog.is_animal"
   ]
  },
  {
   "cell_type": "code",
   "execution_count": 15,
   "metadata": {},
   "outputs": [
    {
     "name": "stdout",
     "output_type": "stream",
     "text": [
      "Rufus is an animal? True\n",
      "Sparky is an animal? True\n"
     ]
    }
   ],
   "source": [
    "rufus = Dog()\n",
    "sparky = Dog()\n",
    "\n",
    "print(\"Rufus is an animal?\", rufus.is_animal)\n",
    "print(\"Sparky is an animal?\", sparky.is_animal)"
   ]
  },
  {
   "cell_type": "code",
   "execution_count": 16,
   "metadata": {},
   "outputs": [
    {
     "name": "stdout",
     "output_type": "stream",
     "text": [
      "Rufus is an animal? False\n",
      "Sparky is an animal? True\n"
     ]
    }
   ],
   "source": [
    "rufus.is_animal = False\n",
    "\n",
    "print(\"Rufus is an animal?\", rufus.is_animal)\n",
    "print(\"Sparky is an animal?\", sparky.is_animal)"
   ]
  },
  {
   "attachments": {},
   "cell_type": "markdown",
   "metadata": {},
   "source": [
    "### State"
   ]
  },
  {
   "attachments": {},
   "cell_type": "markdown",
   "metadata": {},
   "source": [
    "Once an instance of a class (which creates an object) is created, that object has state. *self* is what allows these variables to refer to each other. But just like functions, you can set them from the beginning."
   ]
  },
  {
   "cell_type": "code",
   "execution_count": 19,
   "metadata": {},
   "outputs": [],
   "source": [
    "class Animal:\n",
    "\n",
    "    def __init__(self, name, legs = 4, barks = True):\n",
    "        self.name = name\n",
    "        self.legs = legs\n",
    "        self.barks = barks\n",
    "\n",
    "    def info(self):\n",
    "        print(f\"This is an animal names {self.name}, has {self.legs} legs\")\n",
    "        if self.barks:\n",
    "            print(\"And this one barks!\")\n",
    "        else:\n",
    "            print(\"It doesn't bark at all\")\n",
    "    "
   ]
  },
  {
   "cell_type": "code",
   "execution_count": 20,
   "metadata": {},
   "outputs": [
    {
     "name": "stdout",
     "output_type": "stream",
     "text": [
      "This is an animal names buster, has 4 legs\n",
      "It doesn't bark at all\n"
     ]
    }
   ],
   "source": [
    "bunny = Animal(\"buster\", barks = False)\n",
    "bunny.info()"
   ]
  },
  {
   "cell_type": "code",
   "execution_count": 22,
   "metadata": {},
   "outputs": [
    {
     "name": "stdout",
     "output_type": "stream",
     "text": [
      "buster\n",
      "4\n",
      "False\n"
     ]
    }
   ],
   "source": [
    "print(bunny.name)\n",
    "print(bunny.legs)\n",
    "print(bunny.barks)"
   ]
  },
  {
   "attachments": {},
   "cell_type": "markdown",
   "metadata": {},
   "source": [
    "## Adding methods"
   ]
  },
  {
   "cell_type": "code",
   "execution_count": 24,
   "metadata": {},
   "outputs": [],
   "source": [
    "class Budget:\n",
    "\n",
    "    def __init__(self, budget):\n",
    "        self.budget = budget\n",
    "\n",
    "    def expense(self, amount):\n",
    "        self.budget = self.budget - amount\n",
    "        print(f\"Budget left: {self.budget}\")\n",
    "\n",
    "budget = Budget(100)"
   ]
  },
  {
   "cell_type": "code",
   "execution_count": 25,
   "metadata": {},
   "outputs": [
    {
     "name": "stdout",
     "output_type": "stream",
     "text": [
      "Budget left: 67\n",
      "Budget left: 57\n"
     ]
    }
   ],
   "source": [
    "budget.expense(33)\n",
    "budget.expense(10)"
   ]
  },
  {
   "cell_type": "code",
   "execution_count": 30,
   "metadata": {},
   "outputs": [],
   "source": [
    "class Budget:\n",
    "\n",
    "    def __init__(self, budget):\n",
    "        self.budget = budget\n",
    "\n",
    "    def expense(self, amount):\n",
    "        self.budget = self.budget - amount\n",
    "        self.report()\n",
    "\n",
    "    def report(self):\n",
    "        print(f\"Budget left: {self.budget}\")"
   ]
  },
  {
   "cell_type": "code",
   "execution_count": 31,
   "metadata": {},
   "outputs": [
    {
     "name": "stdout",
     "output_type": "stream",
     "text": [
      "Budget left: 340\n"
     ]
    }
   ],
   "source": [
    "april_budget = Budget(400)\n",
    "april_budget.expense(60)"
   ]
  },
  {
   "cell_type": "code",
   "execution_count": 32,
   "metadata": {},
   "outputs": [
    {
     "name": "stdout",
     "output_type": "stream",
     "text": [
      "Current budget variable: 340\n"
     ]
    }
   ],
   "source": [
    "print(\"Current budget variable:\", april_budget.budget)"
   ]
  },
  {
   "cell_type": "code",
   "execution_count": 33,
   "metadata": {},
   "outputs": [],
   "source": [
    "class Budget:\n",
    "\n",
    "    def __init__(self, budget):\n",
    "        self.budget = budget\n",
    "\n",
    "    def expense(self, amount):\n",
    "        self.budget = self.budget - amount\n",
    "        self.report()\n",
    "\n",
    "    def report(self, currency = \"$\"):\n",
    "        print(f\"Budget left: {currency}{self.budget}\")    "
   ]
  },
  {
   "cell_type": "code",
   "execution_count": 36,
   "metadata": {},
   "outputs": [
    {
     "name": "stdout",
     "output_type": "stream",
     "text": [
      "Budget left: $50\n",
      "Budget left: Per $50\n"
     ]
    }
   ],
   "source": [
    "my_budget = Budget(50)\n",
    "my_budget.report()\n",
    "my_budget.report(\"Per $\")"
   ]
  }
 ],
 "metadata": {
  "kernelspec": {
   "display_name": "environment",
   "language": "python",
   "name": "python3"
  },
  "language_info": {
   "codemirror_mode": {
    "name": "ipython",
    "version": 3
   },
   "file_extension": ".py",
   "mimetype": "text/x-python",
   "name": "python",
   "nbconvert_exporter": "python",
   "pygments_lexer": "ipython3",
   "version": "3.10.10"
  },
  "orig_nbformat": 4
 },
 "nbformat": 4,
 "nbformat_minor": 2
}
