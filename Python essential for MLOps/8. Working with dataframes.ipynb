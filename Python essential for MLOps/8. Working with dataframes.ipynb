{
 "cells": [
  {
   "attachments": {},
   "cell_type": "markdown",
   "metadata": {},
   "source": [
    "# Working with dataframes"
   ]
  },
  {
   "cell_type": "code",
   "execution_count": 2,
   "metadata": {},
   "outputs": [],
   "source": [
    "import pandas as pd"
   ]
  },
  {
   "attachments": {},
   "cell_type": "markdown",
   "metadata": {},
   "source": [
    "## Common dataframe operations"
   ]
  },
  {
   "attachments": {},
   "cell_type": "markdown",
   "metadata": {},
   "source": [
    "Selecting, or subset selections of data like columns and rows are very common when working with datasets that might have data that is not interesting or needs to be dropped."
   ]
  },
  {
   "cell_type": "code",
   "execution_count": 2,
   "metadata": {},
   "outputs": [
    {
     "data": {
      "text/html": [
       "<div>\n",
       "<style scoped>\n",
       "    .dataframe tbody tr th:only-of-type {\n",
       "        vertical-align: middle;\n",
       "    }\n",
       "\n",
       "    .dataframe tbody tr th {\n",
       "        vertical-align: top;\n",
       "    }\n",
       "\n",
       "    .dataframe thead th {\n",
       "        text-align: right;\n",
       "    }\n",
       "</style>\n",
       "<table border=\"1\" class=\"dataframe\">\n",
       "  <thead>\n",
       "    <tr style=\"text-align: right;\">\n",
       "      <th></th>\n",
       "      <th>name</th>\n",
       "      <th>grape</th>\n",
       "      <th>region</th>\n",
       "      <th>variety</th>\n",
       "      <th>rating</th>\n",
       "      <th>notes</th>\n",
       "    </tr>\n",
       "  </thead>\n",
       "  <tbody>\n",
       "    <tr>\n",
       "      <th>0</th>\n",
       "      <td>1000 Stories Bourbon Barrel Aged Batch Blue Ca...</td>\n",
       "      <td>NaN</td>\n",
       "      <td>Mendocino, California</td>\n",
       "      <td>Red Wine</td>\n",
       "      <td>91.0</td>\n",
       "      <td>This is a very special, limited release of 100...</td>\n",
       "    </tr>\n",
       "    <tr>\n",
       "      <th>1</th>\n",
       "      <td>1000 Stories Bourbon Barrel Aged Gold Rush Red...</td>\n",
       "      <td>NaN</td>\n",
       "      <td>California</td>\n",
       "      <td>Red Wine</td>\n",
       "      <td>89.0</td>\n",
       "      <td>The California Gold Rush was a period of coura...</td>\n",
       "    </tr>\n",
       "    <tr>\n",
       "      <th>2</th>\n",
       "      <td>1000 Stories Bourbon Barrel Aged Gold Rush Red...</td>\n",
       "      <td>NaN</td>\n",
       "      <td>California</td>\n",
       "      <td>Red Wine</td>\n",
       "      <td>90.0</td>\n",
       "      <td>The California Gold Rush was a period of coura...</td>\n",
       "    </tr>\n",
       "    <tr>\n",
       "      <th>3</th>\n",
       "      <td>1000 Stories Bourbon Barrel Aged Zinfandel 2013</td>\n",
       "      <td>NaN</td>\n",
       "      <td>North Coast, California</td>\n",
       "      <td>Red Wine</td>\n",
       "      <td>91.0</td>\n",
       "      <td>The wine has a deep, rich purple color. An int...</td>\n",
       "    </tr>\n",
       "    <tr>\n",
       "      <th>4</th>\n",
       "      <td>1000 Stories Bourbon Barrel Aged Zinfandel 2014</td>\n",
       "      <td>NaN</td>\n",
       "      <td>California</td>\n",
       "      <td>Red Wine</td>\n",
       "      <td>90.0</td>\n",
       "      <td>Batch #004 is the first release of the 2014 vi...</td>\n",
       "    </tr>\n",
       "  </tbody>\n",
       "</table>\n",
       "</div>"
      ],
      "text/plain": [
       "                                                name  grape  \\\n",
       "0  1000 Stories Bourbon Barrel Aged Batch Blue Ca...    NaN   \n",
       "1  1000 Stories Bourbon Barrel Aged Gold Rush Red...    NaN   \n",
       "2  1000 Stories Bourbon Barrel Aged Gold Rush Red...    NaN   \n",
       "3    1000 Stories Bourbon Barrel Aged Zinfandel 2013    NaN   \n",
       "4    1000 Stories Bourbon Barrel Aged Zinfandel 2014    NaN   \n",
       "\n",
       "                    region   variety  rating  \\\n",
       "0    Mendocino, California  Red Wine    91.0   \n",
       "1               California  Red Wine    89.0   \n",
       "2               California  Red Wine    90.0   \n",
       "3  North Coast, California  Red Wine    91.0   \n",
       "4               California  Red Wine    90.0   \n",
       "\n",
       "                                               notes  \n",
       "0  This is a very special, limited release of 100...  \n",
       "1  The California Gold Rush was a period of coura...  \n",
       "2  The California Gold Rush was a period of coura...  \n",
       "3  The wine has a deep, rich purple color. An int...  \n",
       "4  Batch #004 is the first release of the 2014 vi...  "
      ]
     },
     "execution_count": 2,
     "metadata": {},
     "output_type": "execute_result"
    }
   ],
   "source": [
    "csv_url = \"https://raw.githubusercontent.com/paiml/wine-ratings/main/wine-ratings.csv\"\n",
    "\n",
    "df  = pd.read_csv(csv_url, index_col = 0)\n",
    "\n",
    "df.head(5)"
   ]
  },
  {
   "attachments": {},
   "cell_type": "markdown",
   "metadata": {},
   "source": [
    "### Dataframe columns"
   ]
  },
  {
   "attachments": {},
   "cell_type": "markdown",
   "metadata": {},
   "source": [
    "Select specific columns from dataframe."
   ]
  },
  {
   "cell_type": "code",
   "execution_count": 3,
   "metadata": {},
   "outputs": [
    {
     "data": {
      "text/plain": [
       "0    This is a very special, limited release of 100...\n",
       "1    The California Gold Rush was a period of coura...\n",
       "2    The California Gold Rush was a period of coura...\n",
       "3    The wine has a deep, rich purple color. An int...\n",
       "4    Batch #004 is the first release of the 2014 vi...\n",
       "Name: notes, dtype: object"
      ]
     },
     "execution_count": 3,
     "metadata": {},
     "output_type": "execute_result"
    }
   ],
   "source": [
    "wine_notes = df[\"notes\"]\n",
    "wine_notes.head()"
   ]
  },
  {
   "cell_type": "code",
   "execution_count": 4,
   "metadata": {},
   "outputs": [
    {
     "data": {
      "text/html": [
       "<div>\n",
       "<style scoped>\n",
       "    .dataframe tbody tr th:only-of-type {\n",
       "        vertical-align: middle;\n",
       "    }\n",
       "\n",
       "    .dataframe tbody tr th {\n",
       "        vertical-align: top;\n",
       "    }\n",
       "\n",
       "    .dataframe thead th {\n",
       "        text-align: right;\n",
       "    }\n",
       "</style>\n",
       "<table border=\"1\" class=\"dataframe\">\n",
       "  <thead>\n",
       "    <tr style=\"text-align: right;\">\n",
       "      <th></th>\n",
       "      <th>name</th>\n",
       "      <th>rating</th>\n",
       "    </tr>\n",
       "  </thead>\n",
       "  <tbody>\n",
       "    <tr>\n",
       "      <th>0</th>\n",
       "      <td>1000 Stories Bourbon Barrel Aged Batch Blue Ca...</td>\n",
       "      <td>91.0</td>\n",
       "    </tr>\n",
       "    <tr>\n",
       "      <th>1</th>\n",
       "      <td>1000 Stories Bourbon Barrel Aged Gold Rush Red...</td>\n",
       "      <td>89.0</td>\n",
       "    </tr>\n",
       "    <tr>\n",
       "      <th>2</th>\n",
       "      <td>1000 Stories Bourbon Barrel Aged Gold Rush Red...</td>\n",
       "      <td>90.0</td>\n",
       "    </tr>\n",
       "    <tr>\n",
       "      <th>3</th>\n",
       "      <td>1000 Stories Bourbon Barrel Aged Zinfandel 2013</td>\n",
       "      <td>91.0</td>\n",
       "    </tr>\n",
       "    <tr>\n",
       "      <th>4</th>\n",
       "      <td>1000 Stories Bourbon Barrel Aged Zinfandel 2014</td>\n",
       "      <td>90.0</td>\n",
       "    </tr>\n",
       "  </tbody>\n",
       "</table>\n",
       "</div>"
      ],
      "text/plain": [
       "                                                name  rating\n",
       "0  1000 Stories Bourbon Barrel Aged Batch Blue Ca...    91.0\n",
       "1  1000 Stories Bourbon Barrel Aged Gold Rush Red...    89.0\n",
       "2  1000 Stories Bourbon Barrel Aged Gold Rush Red...    90.0\n",
       "3    1000 Stories Bourbon Barrel Aged Zinfandel 2013    91.0\n",
       "4    1000 Stories Bourbon Barrel Aged Zinfandel 2014    90.0"
      ]
     },
     "execution_count": 4,
     "metadata": {},
     "output_type": "execute_result"
    }
   ],
   "source": [
    "named_ratings = df[[\"name\", \"rating\"]]\n",
    "named_ratings.head()"
   ]
  },
  {
   "attachments": {},
   "cell_type": "markdown",
   "metadata": {},
   "source": [
    "### Specific dataframe rows"
   ]
  },
  {
   "attachments": {},
   "cell_type": "markdown",
   "metadata": {},
   "source": [
    "Filter rows based on a condition."
   ]
  },
  {
   "cell_type": "code",
   "execution_count": 7,
   "metadata": {},
   "outputs": [
    {
     "data": {
      "text/html": [
       "<div>\n",
       "<style scoped>\n",
       "    .dataframe tbody tr th:only-of-type {\n",
       "        vertical-align: middle;\n",
       "    }\n",
       "\n",
       "    .dataframe tbody tr th {\n",
       "        vertical-align: top;\n",
       "    }\n",
       "\n",
       "    .dataframe thead th {\n",
       "        text-align: right;\n",
       "    }\n",
       "</style>\n",
       "<table border=\"1\" class=\"dataframe\">\n",
       "  <thead>\n",
       "    <tr style=\"text-align: right;\">\n",
       "      <th></th>\n",
       "      <th>name</th>\n",
       "      <th>rating</th>\n",
       "    </tr>\n",
       "  </thead>\n",
       "  <tbody>\n",
       "    <tr>\n",
       "      <th>218</th>\n",
       "      <td>Abreu Vineyards Cappella 2010</td>\n",
       "      <td>98.0</td>\n",
       "    </tr>\n",
       "    <tr>\n",
       "      <th>220</th>\n",
       "      <td>Abreu Vineyards Howell Mountain 2009</td>\n",
       "      <td>98.0</td>\n",
       "    </tr>\n",
       "    <tr>\n",
       "      <th>221</th>\n",
       "      <td>Abreu Vineyards Las Posadas Howell Mountain 2012</td>\n",
       "      <td>99.0</td>\n",
       "    </tr>\n",
       "    <tr>\n",
       "      <th>223</th>\n",
       "      <td>Abreu Vineyards Madrona Ranch 1996</td>\n",
       "      <td>98.0</td>\n",
       "    </tr>\n",
       "    <tr>\n",
       "      <th>227</th>\n",
       "      <td>Abreu Vineyards Madrona Ranch 2005</td>\n",
       "      <td>98.0</td>\n",
       "    </tr>\n",
       "    <tr>\n",
       "      <th>229</th>\n",
       "      <td>Abreu Vineyards Thorevilos 2009</td>\n",
       "      <td>98.0</td>\n",
       "    </tr>\n",
       "    <tr>\n",
       "      <th>230</th>\n",
       "      <td>Abreu Vineyards Thorevilos 2012</td>\n",
       "      <td>99.0</td>\n",
       "    </tr>\n",
       "    <tr>\n",
       "      <th>231</th>\n",
       "      <td>Abreu Vineyards Thorevilos 2014</td>\n",
       "      <td>97.0</td>\n",
       "    </tr>\n",
       "  </tbody>\n",
       "</table>\n",
       "</div>"
      ],
      "text/plain": [
       "                                                 name  rating\n",
       "218                     Abreu Vineyards Cappella 2010    98.0\n",
       "220              Abreu Vineyards Howell Mountain 2009    98.0\n",
       "221  Abreu Vineyards Las Posadas Howell Mountain 2012    99.0\n",
       "223                Abreu Vineyards Madrona Ranch 1996    98.0\n",
       "227                Abreu Vineyards Madrona Ranch 2005    98.0\n",
       "229                   Abreu Vineyards Thorevilos 2009    98.0\n",
       "230                   Abreu Vineyards Thorevilos 2012    99.0\n",
       "231                   Abreu Vineyards Thorevilos 2014    97.0"
      ]
     },
     "execution_count": 7,
     "metadata": {},
     "output_type": "execute_result"
    }
   ],
   "source": [
    "top_named_ratings = named_ratings[named_ratings[\"rating\"] > 96]\n",
    "top_named_ratings.head(8)"
   ]
  },
  {
   "cell_type": "code",
   "execution_count": 9,
   "metadata": {},
   "outputs": [
    {
     "data": {
      "text/plain": [
       "0        False\n",
       "1        False\n",
       "2        False\n",
       "3        False\n",
       "4        False\n",
       "         ...  \n",
       "32775    False\n",
       "32776    False\n",
       "32777    False\n",
       "32778    False\n",
       "32779    False\n",
       "Name: rating, Length: 32780, dtype: bool"
      ]
     },
     "execution_count": 9,
     "metadata": {},
     "output_type": "execute_result"
    }
   ],
   "source": [
    "named_ratings[\"rating\"] > 96"
   ]
  },
  {
   "attachments": {},
   "cell_type": "markdown",
   "metadata": {},
   "source": [
    "### Using queries"
   ]
  },
  {
   "attachments": {},
   "cell_type": "markdown",
   "metadata": {},
   "source": [
    "* Use these methods from the Dataframe."
   ]
  },
  {
   "cell_type": "code",
   "execution_count": 10,
   "metadata": {},
   "outputs": [
    {
     "data": {
      "text/html": [
       "<div>\n",
       "<style scoped>\n",
       "    .dataframe tbody tr th:only-of-type {\n",
       "        vertical-align: middle;\n",
       "    }\n",
       "\n",
       "    .dataframe tbody tr th {\n",
       "        vertical-align: top;\n",
       "    }\n",
       "\n",
       "    .dataframe thead th {\n",
       "        text-align: right;\n",
       "    }\n",
       "</style>\n",
       "<table border=\"1\" class=\"dataframe\">\n",
       "  <thead>\n",
       "    <tr style=\"text-align: right;\">\n",
       "      <th></th>\n",
       "      <th>name</th>\n",
       "      <th>grape</th>\n",
       "      <th>region</th>\n",
       "      <th>variety</th>\n",
       "      <th>rating</th>\n",
       "      <th>notes</th>\n",
       "    </tr>\n",
       "  </thead>\n",
       "  <tbody>\n",
       "    <tr>\n",
       "      <th>218</th>\n",
       "      <td>Abreu Vineyards Cappella 2010</td>\n",
       "      <td>NaN</td>\n",
       "      <td>Napa Valley, California</td>\n",
       "      <td>Red Wine</td>\n",
       "      <td>98.0</td>\n",
       "      <td>Cappella is one of the oldest vineyard sites i...</td>\n",
       "    </tr>\n",
       "    <tr>\n",
       "      <th>220</th>\n",
       "      <td>Abreu Vineyards Howell Mountain 2009</td>\n",
       "      <td>NaN</td>\n",
       "      <td>Howell Mountain, Napa Valley, California</td>\n",
       "      <td>Red Wine</td>\n",
       "      <td>98.0</td>\n",
       "      <td>As a set of wines, it is hard to surpass the f...</td>\n",
       "    </tr>\n",
       "    <tr>\n",
       "      <th>221</th>\n",
       "      <td>Abreu Vineyards Las Posadas Howell Mountain 2012</td>\n",
       "      <td>NaN</td>\n",
       "      <td>Howell Mountain, Napa Valley, California</td>\n",
       "      <td>Red Wine</td>\n",
       "      <td>99.0</td>\n",
       "      <td>At about 2000 feet elevation, Las Posadas sits...</td>\n",
       "    </tr>\n",
       "    <tr>\n",
       "      <th>223</th>\n",
       "      <td>Abreu Vineyards Madrona Ranch 1996</td>\n",
       "      <td>NaN</td>\n",
       "      <td>Napa Valley, California</td>\n",
       "      <td>Red Wine</td>\n",
       "      <td>98.0</td>\n",
       "      <td>Abreu Madrona Ranch is a blend of Cabernet Sau...</td>\n",
       "    </tr>\n",
       "    <tr>\n",
       "      <th>227</th>\n",
       "      <td>Abreu Vineyards Madrona Ranch 2005</td>\n",
       "      <td>NaN</td>\n",
       "      <td>Napa Valley, California</td>\n",
       "      <td>Red Wine</td>\n",
       "      <td>98.0</td>\n",
       "      <td>Abreu Madrona Ranch is a blend of Cabernet Sau...</td>\n",
       "    </tr>\n",
       "  </tbody>\n",
       "</table>\n",
       "</div>"
      ],
      "text/plain": [
       "                                                 name  grape  \\\n",
       "218                     Abreu Vineyards Cappella 2010    NaN   \n",
       "220              Abreu Vineyards Howell Mountain 2009    NaN   \n",
       "221  Abreu Vineyards Las Posadas Howell Mountain 2012    NaN   \n",
       "223                Abreu Vineyards Madrona Ranch 1996    NaN   \n",
       "227                Abreu Vineyards Madrona Ranch 2005    NaN   \n",
       "\n",
       "                                       region   variety  rating  \\\n",
       "218                   Napa Valley, California  Red Wine    98.0   \n",
       "220  Howell Mountain, Napa Valley, California  Red Wine    98.0   \n",
       "221  Howell Mountain, Napa Valley, California  Red Wine    99.0   \n",
       "223                   Napa Valley, California  Red Wine    98.0   \n",
       "227                   Napa Valley, California  Red Wine    98.0   \n",
       "\n",
       "                                                 notes  \n",
       "218  Cappella is one of the oldest vineyard sites i...  \n",
       "220  As a set of wines, it is hard to surpass the f...  \n",
       "221  At about 2000 feet elevation, Las Posadas sits...  \n",
       "223  Abreu Madrona Ranch is a blend of Cabernet Sau...  \n",
       "227  Abreu Madrona Ranch is a blend of Cabernet Sau...  "
      ]
     },
     "execution_count": 10,
     "metadata": {},
     "output_type": "execute_result"
    }
   ],
   "source": [
    "df.query(\"rating > 96\").head()"
   ]
  },
  {
   "attachments": {},
   "cell_type": "markdown",
   "metadata": {},
   "source": [
    "* Add more combined queries."
   ]
  },
  {
   "cell_type": "code",
   "execution_count": 13,
   "metadata": {},
   "outputs": [
    {
     "data": {
      "text/html": [
       "<div>\n",
       "<style scoped>\n",
       "    .dataframe tbody tr th:only-of-type {\n",
       "        vertical-align: middle;\n",
       "    }\n",
       "\n",
       "    .dataframe tbody tr th {\n",
       "        vertical-align: top;\n",
       "    }\n",
       "\n",
       "    .dataframe thead th {\n",
       "        text-align: right;\n",
       "    }\n",
       "</style>\n",
       "<table border=\"1\" class=\"dataframe\">\n",
       "  <thead>\n",
       "    <tr style=\"text-align: right;\">\n",
       "      <th></th>\n",
       "      <th>name</th>\n",
       "      <th>grape</th>\n",
       "      <th>region</th>\n",
       "      <th>variety</th>\n",
       "      <th>rating</th>\n",
       "      <th>notes</th>\n",
       "    </tr>\n",
       "  </thead>\n",
       "  <tbody>\n",
       "    <tr>\n",
       "      <th>110</th>\n",
       "      <td>Aalto 2005</td>\n",
       "      <td>NaN</td>\n",
       "      <td>Ribera del Duero, Spain</td>\n",
       "      <td>Red Wine</td>\n",
       "      <td>95.0</td>\n",
       "      <td>The grapes come exclusively from old vineyards...</td>\n",
       "    </tr>\n",
       "    <tr>\n",
       "      <th>111</th>\n",
       "      <td>Aalto 2007</td>\n",
       "      <td>NaN</td>\n",
       "      <td>Ribera del Duero, Spain</td>\n",
       "      <td>Red Wine</td>\n",
       "      <td>95.0</td>\n",
       "      <td>It is ironic that one of the youngest properti...</td>\n",
       "    </tr>\n",
       "    <tr>\n",
       "      <th>113</th>\n",
       "      <td>Aalto 2008</td>\n",
       "      <td>NaN</td>\n",
       "      <td>Ribera del Duero, Spain</td>\n",
       "      <td>Red Wine</td>\n",
       "      <td>95.0</td>\n",
       "      <td>This wine's elegance and fruitful presence per...</td>\n",
       "    </tr>\n",
       "    <tr>\n",
       "      <th>121</th>\n",
       "      <td>Aalto 2016</td>\n",
       "      <td>NaN</td>\n",
       "      <td>Ribera del Duero, Spain</td>\n",
       "      <td>Red Wine</td>\n",
       "      <td>95.0</td>\n",
       "      <td>Deep purple red color, as corresponds to old T...</td>\n",
       "    </tr>\n",
       "    <tr>\n",
       "      <th>123</th>\n",
       "      <td>Aalto PS 2013</td>\n",
       "      <td>NaN</td>\n",
       "      <td>Ribera del Duero, Spain</td>\n",
       "      <td>Red Wine</td>\n",
       "      <td>95.0</td>\n",
       "      <td>Aalto PS (Pagos Seleccionada) is made only in ...</td>\n",
       "    </tr>\n",
       "  </tbody>\n",
       "</table>\n",
       "</div>"
      ],
      "text/plain": [
       "              name  grape                   region   variety  rating  \\\n",
       "110     Aalto 2005    NaN  Ribera del Duero, Spain  Red Wine    95.0   \n",
       "111     Aalto 2007    NaN  Ribera del Duero, Spain  Red Wine    95.0   \n",
       "113     Aalto 2008    NaN  Ribera del Duero, Spain  Red Wine    95.0   \n",
       "121     Aalto 2016    NaN  Ribera del Duero, Spain  Red Wine    95.0   \n",
       "123  Aalto PS 2013    NaN  Ribera del Duero, Spain  Red Wine    95.0   \n",
       "\n",
       "                                                 notes  \n",
       "110  The grapes come exclusively from old vineyards...  \n",
       "111  It is ironic that one of the youngest properti...  \n",
       "113  This wine's elegance and fruitful presence per...  \n",
       "121  Deep purple red color, as corresponds to old T...  \n",
       "123  Aalto PS (Pagos Seleccionada) is made only in ...  "
      ]
     },
     "execution_count": 13,
     "metadata": {},
     "output_type": "execute_result"
    }
   ],
   "source": [
    "df.query(\"rating > 94 & region == 'Ribera del Duero, Spain'\").head()"
   ]
  },
  {
   "attachments": {},
   "cell_type": "markdown",
   "metadata": {},
   "source": [
    "* Chain queries to use the Python engine to operate on strings."
   ]
  },
  {
   "cell_type": "code",
   "execution_count": 18,
   "metadata": {},
   "outputs": [
    {
     "data": {
      "text/html": [
       "<div>\n",
       "<style scoped>\n",
       "    .dataframe tbody tr th:only-of-type {\n",
       "        vertical-align: middle;\n",
       "    }\n",
       "\n",
       "    .dataframe tbody tr th {\n",
       "        vertical-align: top;\n",
       "    }\n",
       "\n",
       "    .dataframe thead th {\n",
       "        text-align: right;\n",
       "    }\n",
       "</style>\n",
       "<table border=\"1\" class=\"dataframe\">\n",
       "  <thead>\n",
       "    <tr style=\"text-align: right;\">\n",
       "      <th></th>\n",
       "      <th>name</th>\n",
       "      <th>grape</th>\n",
       "      <th>region</th>\n",
       "      <th>variety</th>\n",
       "      <th>rating</th>\n",
       "      <th>notes</th>\n",
       "    </tr>\n",
       "  </thead>\n",
       "  <tbody>\n",
       "    <tr>\n",
       "      <th>3050</th>\n",
       "      <td>Austin Hope Cabernet Sauvignon 2016</td>\n",
       "      <td>NaN</td>\n",
       "      <td>Paso Robles, Central Coast, California</td>\n",
       "      <td>Red Wine</td>\n",
       "      <td>96.0</td>\n",
       "      <td>Deep ruby in color, the 2016 Austin Hope Caber...</td>\n",
       "    </tr>\n",
       "    <tr>\n",
       "      <th>6272</th>\n",
       "      <td>Booker Vineyard Estate 24 2014</td>\n",
       "      <td>NaN</td>\n",
       "      <td>Paso Robles, Central Coast, California</td>\n",
       "      <td>Red Wine</td>\n",
       "      <td>96.0</td>\n",
       "      <td>Blend: 51% Tempranillo, 28% Syrah, 13% Petit V...</td>\n",
       "    </tr>\n",
       "    <tr>\n",
       "      <th>6273</th>\n",
       "      <td>Booker Vineyard Estate Syrah Blend 2013</td>\n",
       "      <td>NaN</td>\n",
       "      <td>Paso Robles, Central Coast, California</td>\n",
       "      <td>Red Wine</td>\n",
       "      <td>96.0</td>\n",
       "      <td>Fashioned after the old Alchemist, this wine w...</td>\n",
       "    </tr>\n",
       "    <tr>\n",
       "      <th>6277</th>\n",
       "      <td>Booker Vineyard Fracture Syrah 2011</td>\n",
       "      <td>NaN</td>\n",
       "      <td>Paso Robles, Central Coast, California</td>\n",
       "      <td>Red Wine</td>\n",
       "      <td>97.0</td>\n",
       "      <td>Just over half of our property is planted with...</td>\n",
       "    </tr>\n",
       "    <tr>\n",
       "      <th>6284</th>\n",
       "      <td>Booker Vineyard Jada 2015</td>\n",
       "      <td>NaN</td>\n",
       "      <td>Paso Robles, Central Coast, California</td>\n",
       "      <td>Red Wine</td>\n",
       "      <td>96.0</td>\n",
       "      <td>This Grenache heavy wine is very elegant and p...</td>\n",
       "    </tr>\n",
       "  </tbody>\n",
       "</table>\n",
       "</div>"
      ],
      "text/plain": [
       "                                         name  grape  \\\n",
       "3050      Austin Hope Cabernet Sauvignon 2016    NaN   \n",
       "6272           Booker Vineyard Estate 24 2014    NaN   \n",
       "6273  Booker Vineyard Estate Syrah Blend 2013    NaN   \n",
       "6277      Booker Vineyard Fracture Syrah 2011    NaN   \n",
       "6284                Booker Vineyard Jada 2015    NaN   \n",
       "\n",
       "                                      region   variety  rating  \\\n",
       "3050  Paso Robles, Central Coast, California  Red Wine    96.0   \n",
       "6272  Paso Robles, Central Coast, California  Red Wine    96.0   \n",
       "6273  Paso Robles, Central Coast, California  Red Wine    96.0   \n",
       "6277  Paso Robles, Central Coast, California  Red Wine    97.0   \n",
       "6284  Paso Robles, Central Coast, California  Red Wine    96.0   \n",
       "\n",
       "                                                  notes  \n",
       "3050  Deep ruby in color, the 2016 Austin Hope Caber...  \n",
       "6272  Blend: 51% Tempranillo, 28% Syrah, 13% Petit V...  \n",
       "6273  Fashioned after the old Alchemist, this wine w...  \n",
       "6277  Just over half of our property is planted with...  \n",
       "6284  This Grenache heavy wine is very elegant and p...  "
      ]
     },
     "execution_count": 18,
     "metadata": {},
     "output_type": "execute_result"
    }
   ],
   "source": [
    "top_wines = df.query(\"rating > 95\")\n",
    "paso_robles = top_wines.query(\"region.str.contains('Robles', na = False)\", engine = 'python')\n",
    "paso_robles.head()"
   ]
  },
  {
   "attachments": {},
   "cell_type": "markdown",
   "metadata": {},
   "source": [
    "## Manipulating text in dataframes"
   ]
  },
  {
   "attachments": {},
   "cell_type": "markdown",
   "metadata": {},
   "source": [
    "Python calls it *manipulating textual data*."
   ]
  },
  {
   "attachments": {},
   "cell_type": "markdown",
   "metadata": {},
   "source": [
    "* Manipulate the variety to be R for red or W for white."
   ]
  },
  {
   "cell_type": "code",
   "execution_count": 19,
   "metadata": {},
   "outputs": [
    {
     "data": {
      "text/html": [
       "<div>\n",
       "<style scoped>\n",
       "    .dataframe tbody tr th:only-of-type {\n",
       "        vertical-align: middle;\n",
       "    }\n",
       "\n",
       "    .dataframe tbody tr th {\n",
       "        vertical-align: top;\n",
       "    }\n",
       "\n",
       "    .dataframe thead th {\n",
       "        text-align: right;\n",
       "    }\n",
       "</style>\n",
       "<table border=\"1\" class=\"dataframe\">\n",
       "  <thead>\n",
       "    <tr style=\"text-align: right;\">\n",
       "      <th></th>\n",
       "      <th>name</th>\n",
       "      <th>grape</th>\n",
       "      <th>region</th>\n",
       "      <th>variety</th>\n",
       "      <th>rating</th>\n",
       "      <th>notes</th>\n",
       "      <th>variety_short</th>\n",
       "    </tr>\n",
       "  </thead>\n",
       "  <tbody>\n",
       "    <tr>\n",
       "      <th>0</th>\n",
       "      <td>1000 Stories Bourbon Barrel Aged Batch Blue Ca...</td>\n",
       "      <td>NaN</td>\n",
       "      <td>Mendocino, California</td>\n",
       "      <td>Red Wine</td>\n",
       "      <td>91.0</td>\n",
       "      <td>This is a very special, limited release of 100...</td>\n",
       "      <td>R</td>\n",
       "    </tr>\n",
       "    <tr>\n",
       "      <th>1</th>\n",
       "      <td>1000 Stories Bourbon Barrel Aged Gold Rush Red...</td>\n",
       "      <td>NaN</td>\n",
       "      <td>California</td>\n",
       "      <td>Red Wine</td>\n",
       "      <td>89.0</td>\n",
       "      <td>The California Gold Rush was a period of coura...</td>\n",
       "      <td>R</td>\n",
       "    </tr>\n",
       "    <tr>\n",
       "      <th>2</th>\n",
       "      <td>1000 Stories Bourbon Barrel Aged Gold Rush Red...</td>\n",
       "      <td>NaN</td>\n",
       "      <td>California</td>\n",
       "      <td>Red Wine</td>\n",
       "      <td>90.0</td>\n",
       "      <td>The California Gold Rush was a period of coura...</td>\n",
       "      <td>R</td>\n",
       "    </tr>\n",
       "    <tr>\n",
       "      <th>3</th>\n",
       "      <td>1000 Stories Bourbon Barrel Aged Zinfandel 2013</td>\n",
       "      <td>NaN</td>\n",
       "      <td>North Coast, California</td>\n",
       "      <td>Red Wine</td>\n",
       "      <td>91.0</td>\n",
       "      <td>The wine has a deep, rich purple color. An int...</td>\n",
       "      <td>R</td>\n",
       "    </tr>\n",
       "    <tr>\n",
       "      <th>4</th>\n",
       "      <td>1000 Stories Bourbon Barrel Aged Zinfandel 2014</td>\n",
       "      <td>NaN</td>\n",
       "      <td>California</td>\n",
       "      <td>Red Wine</td>\n",
       "      <td>90.0</td>\n",
       "      <td>Batch #004 is the first release of the 2014 vi...</td>\n",
       "      <td>R</td>\n",
       "    </tr>\n",
       "    <tr>\n",
       "      <th>5</th>\n",
       "      <td>1000 Stories Bourbon Barrel Aged Zinfandel 2016</td>\n",
       "      <td>NaN</td>\n",
       "      <td>California</td>\n",
       "      <td>Red Wine</td>\n",
       "      <td>91.0</td>\n",
       "      <td>1,000 Stories Bourbon barrel-aged Zinfandel is...</td>\n",
       "      <td>R</td>\n",
       "    </tr>\n",
       "    <tr>\n",
       "      <th>6</th>\n",
       "      <td>1000 Stories Bourbon Barrel Aged Zinfandel 2017</td>\n",
       "      <td>NaN</td>\n",
       "      <td>California</td>\n",
       "      <td>Red Wine</td>\n",
       "      <td>92.0</td>\n",
       "      <td>Batch 55 embodies an opulent vintage, which sa...</td>\n",
       "      <td>R</td>\n",
       "    </tr>\n",
       "    <tr>\n",
       "      <th>7</th>\n",
       "      <td>12 Linajes Crianza 2014</td>\n",
       "      <td>NaN</td>\n",
       "      <td>Ribera del Duero, Spain</td>\n",
       "      <td>Red Wine</td>\n",
       "      <td>92.0</td>\n",
       "      <td>Red with violet hues. The aromas are very inte...</td>\n",
       "      <td>R</td>\n",
       "    </tr>\n",
       "    <tr>\n",
       "      <th>8</th>\n",
       "      <td>12 Linajes Reserva 2012</td>\n",
       "      <td>NaN</td>\n",
       "      <td>Ribera del Duero, Spain</td>\n",
       "      <td>Red Wine</td>\n",
       "      <td>94.0</td>\n",
       "      <td>On the nose, a complex predominance of mineral...</td>\n",
       "      <td>R</td>\n",
       "    </tr>\n",
       "    <tr>\n",
       "      <th>9</th>\n",
       "      <td>14 Hands Cabernet Sauvignon 2010</td>\n",
       "      <td>NaN</td>\n",
       "      <td>Columbia Valley, Washington</td>\n",
       "      <td>Red Wine</td>\n",
       "      <td>87.0</td>\n",
       "      <td>Concentrated aromas of dark stone fruits and t...</td>\n",
       "      <td>R</td>\n",
       "    </tr>\n",
       "  </tbody>\n",
       "</table>\n",
       "</div>"
      ],
      "text/plain": [
       "                                                name  grape  \\\n",
       "0  1000 Stories Bourbon Barrel Aged Batch Blue Ca...    NaN   \n",
       "1  1000 Stories Bourbon Barrel Aged Gold Rush Red...    NaN   \n",
       "2  1000 Stories Bourbon Barrel Aged Gold Rush Red...    NaN   \n",
       "3    1000 Stories Bourbon Barrel Aged Zinfandel 2013    NaN   \n",
       "4    1000 Stories Bourbon Barrel Aged Zinfandel 2014    NaN   \n",
       "5    1000 Stories Bourbon Barrel Aged Zinfandel 2016    NaN   \n",
       "6    1000 Stories Bourbon Barrel Aged Zinfandel 2017    NaN   \n",
       "7                            12 Linajes Crianza 2014    NaN   \n",
       "8                            12 Linajes Reserva 2012    NaN   \n",
       "9                   14 Hands Cabernet Sauvignon 2010    NaN   \n",
       "\n",
       "                        region   variety  rating  \\\n",
       "0        Mendocino, California  Red Wine    91.0   \n",
       "1                   California  Red Wine    89.0   \n",
       "2                   California  Red Wine    90.0   \n",
       "3      North Coast, California  Red Wine    91.0   \n",
       "4                   California  Red Wine    90.0   \n",
       "5                   California  Red Wine    91.0   \n",
       "6                   California  Red Wine    92.0   \n",
       "7      Ribera del Duero, Spain  Red Wine    92.0   \n",
       "8      Ribera del Duero, Spain  Red Wine    94.0   \n",
       "9  Columbia Valley, Washington  Red Wine    87.0   \n",
       "\n",
       "                                               notes variety_short  \n",
       "0  This is a very special, limited release of 100...             R  \n",
       "1  The California Gold Rush was a period of coura...             R  \n",
       "2  The California Gold Rush was a period of coura...             R  \n",
       "3  The wine has a deep, rich purple color. An int...             R  \n",
       "4  Batch #004 is the first release of the 2014 vi...             R  \n",
       "5  1,000 Stories Bourbon barrel-aged Zinfandel is...             R  \n",
       "6  Batch 55 embodies an opulent vintage, which sa...             R  \n",
       "7  Red with violet hues. The aromas are very inte...             R  \n",
       "8  On the nose, a complex predominance of mineral...             R  \n",
       "9  Concentrated aromas of dark stone fruits and t...             R  "
      ]
     },
     "execution_count": 19,
     "metadata": {},
     "output_type": "execute_result"
    }
   ],
   "source": [
    "df[\"variety_short\"] = df[\"variety\"].replace({\"Red Wine\": \"R\",\n",
    "                                             \"White Wine\": \"W\"})\n",
    "df.head(10)"
   ]
  },
  {
   "attachments": {},
   "cell_type": "markdown",
   "metadata": {},
   "source": [
    "* Split the region and keep only the last part."
   ]
  },
  {
   "cell_type": "code",
   "execution_count": 20,
   "metadata": {},
   "outputs": [
    {
     "data": {
      "text/html": [
       "<div>\n",
       "<style scoped>\n",
       "    .dataframe tbody tr th:only-of-type {\n",
       "        vertical-align: middle;\n",
       "    }\n",
       "\n",
       "    .dataframe tbody tr th {\n",
       "        vertical-align: top;\n",
       "    }\n",
       "\n",
       "    .dataframe thead th {\n",
       "        text-align: right;\n",
       "    }\n",
       "</style>\n",
       "<table border=\"1\" class=\"dataframe\">\n",
       "  <thead>\n",
       "    <tr style=\"text-align: right;\">\n",
       "      <th></th>\n",
       "      <th>name</th>\n",
       "      <th>grape</th>\n",
       "      <th>region</th>\n",
       "      <th>variety</th>\n",
       "      <th>rating</th>\n",
       "      <th>notes</th>\n",
       "      <th>variety_short</th>\n",
       "      <th>region_short</th>\n",
       "    </tr>\n",
       "  </thead>\n",
       "  <tbody>\n",
       "    <tr>\n",
       "      <th>7</th>\n",
       "      <td>12 Linajes Crianza 2014</td>\n",
       "      <td>NaN</td>\n",
       "      <td>Ribera del Duero, Spain</td>\n",
       "      <td>Red Wine</td>\n",
       "      <td>92.0</td>\n",
       "      <td>Red with violet hues. The aromas are very inte...</td>\n",
       "      <td>R</td>\n",
       "      <td>Spain</td>\n",
       "    </tr>\n",
       "    <tr>\n",
       "      <th>8</th>\n",
       "      <td>12 Linajes Reserva 2012</td>\n",
       "      <td>NaN</td>\n",
       "      <td>Ribera del Duero, Spain</td>\n",
       "      <td>Red Wine</td>\n",
       "      <td>94.0</td>\n",
       "      <td>On the nose, a complex predominance of mineral...</td>\n",
       "      <td>R</td>\n",
       "      <td>Spain</td>\n",
       "    </tr>\n",
       "    <tr>\n",
       "      <th>9</th>\n",
       "      <td>14 Hands Cabernet Sauvignon 2010</td>\n",
       "      <td>NaN</td>\n",
       "      <td>Columbia Valley, Washington</td>\n",
       "      <td>Red Wine</td>\n",
       "      <td>87.0</td>\n",
       "      <td>Concentrated aromas of dark stone fruits and t...</td>\n",
       "      <td>R</td>\n",
       "      <td>Washington</td>\n",
       "    </tr>\n",
       "    <tr>\n",
       "      <th>10</th>\n",
       "      <td>14 Hands Cabernet Sauvignon 2011</td>\n",
       "      <td>NaN</td>\n",
       "      <td>Columbia Valley, Washington</td>\n",
       "      <td>Red Wine</td>\n",
       "      <td>89.0</td>\n",
       "      <td>Concentrated aromas of dark stone fruits and t...</td>\n",
       "      <td>R</td>\n",
       "      <td>Washington</td>\n",
       "    </tr>\n",
       "    <tr>\n",
       "      <th>11</th>\n",
       "      <td>14 Hands Cabernet Sauvignon 2015</td>\n",
       "      <td>NaN</td>\n",
       "      <td>Columbia Valley, Washington</td>\n",
       "      <td>Red Wine</td>\n",
       "      <td>89.0</td>\n",
       "      <td>The 14 Hands Cabernet Sauvignon is a rich, jui...</td>\n",
       "      <td>R</td>\n",
       "      <td>Washington</td>\n",
       "    </tr>\n",
       "  </tbody>\n",
       "</table>\n",
       "</div>"
      ],
      "text/plain": [
       "                                name  grape                       region  \\\n",
       "7            12 Linajes Crianza 2014    NaN      Ribera del Duero, Spain   \n",
       "8            12 Linajes Reserva 2012    NaN      Ribera del Duero, Spain   \n",
       "9   14 Hands Cabernet Sauvignon 2010    NaN  Columbia Valley, Washington   \n",
       "10  14 Hands Cabernet Sauvignon 2011    NaN  Columbia Valley, Washington   \n",
       "11  14 Hands Cabernet Sauvignon 2015    NaN  Columbia Valley, Washington   \n",
       "\n",
       "     variety  rating                                              notes  \\\n",
       "7   Red Wine    92.0  Red with violet hues. The aromas are very inte...   \n",
       "8   Red Wine    94.0  On the nose, a complex predominance of mineral...   \n",
       "9   Red Wine    87.0  Concentrated aromas of dark stone fruits and t...   \n",
       "10  Red Wine    89.0  Concentrated aromas of dark stone fruits and t...   \n",
       "11  Red Wine    89.0  The 14 Hands Cabernet Sauvignon is a rich, jui...   \n",
       "\n",
       "   variety_short region_short  \n",
       "7              R        Spain  \n",
       "8              R        Spain  \n",
       "9              R   Washington  \n",
       "10             R   Washington  \n",
       "11             R   Washington  "
      ]
     },
     "execution_count": 20,
     "metadata": {},
     "output_type": "execute_result"
    }
   ],
   "source": [
    "df[\"region_short\"] = df[\"region\"].str.split().str.get(-1)\n",
    "df.query(\"region_short != 'California'\").head()"
   ]
  },
  {
   "attachments": {},
   "cell_type": "markdown",
   "metadata": {},
   "source": [
    "## Applying functions with Pandas"
   ]
  },
  {
   "attachments": {},
   "cell_type": "markdown",
   "metadata": {},
   "source": [
    "One of the key concepts in Pandas is that you can apply functions to the dataframe itself. This differs from how data manipulation is done usually in Python, where loops and new data structures is primarily how you end up operating."
   ]
  },
  {
   "cell_type": "code",
   "execution_count": 9,
   "metadata": {},
   "outputs": [
    {
     "data": {
      "text/html": [
       "<div>\n",
       "<style scoped>\n",
       "    .dataframe tbody tr th:only-of-type {\n",
       "        vertical-align: middle;\n",
       "    }\n",
       "\n",
       "    .dataframe tbody tr th {\n",
       "        vertical-align: top;\n",
       "    }\n",
       "\n",
       "    .dataframe thead th {\n",
       "        text-align: right;\n",
       "    }\n",
       "</style>\n",
       "<table border=\"1\" class=\"dataframe\">\n",
       "  <thead>\n",
       "    <tr style=\"text-align: right;\">\n",
       "      <th></th>\n",
       "      <th>name</th>\n",
       "      <th>grape</th>\n",
       "      <th>region</th>\n",
       "      <th>variety</th>\n",
       "      <th>rating</th>\n",
       "      <th>notes</th>\n",
       "    </tr>\n",
       "  </thead>\n",
       "  <tbody>\n",
       "    <tr>\n",
       "      <th>0</th>\n",
       "      <td>1000 Stories Bourbon Barrel Aged Batch Blue Ca...</td>\n",
       "      <td>NaN</td>\n",
       "      <td>Mendocino, California</td>\n",
       "      <td>Red Wine</td>\n",
       "      <td>91.0</td>\n",
       "      <td>This is a very special, limited release of 100...</td>\n",
       "    </tr>\n",
       "    <tr>\n",
       "      <th>1</th>\n",
       "      <td>1000 Stories Bourbon Barrel Aged Gold Rush Red...</td>\n",
       "      <td>NaN</td>\n",
       "      <td>California</td>\n",
       "      <td>Red Wine</td>\n",
       "      <td>89.0</td>\n",
       "      <td>The California Gold Rush was a period of coura...</td>\n",
       "    </tr>\n",
       "    <tr>\n",
       "      <th>2</th>\n",
       "      <td>1000 Stories Bourbon Barrel Aged Gold Rush Red...</td>\n",
       "      <td>NaN</td>\n",
       "      <td>California</td>\n",
       "      <td>Red Wine</td>\n",
       "      <td>90.0</td>\n",
       "      <td>The California Gold Rush was a period of coura...</td>\n",
       "    </tr>\n",
       "    <tr>\n",
       "      <th>3</th>\n",
       "      <td>1000 Stories Bourbon Barrel Aged Zinfandel 2013</td>\n",
       "      <td>NaN</td>\n",
       "      <td>North Coast, California</td>\n",
       "      <td>Red Wine</td>\n",
       "      <td>91.0</td>\n",
       "      <td>The wine has a deep, rich purple color. An int...</td>\n",
       "    </tr>\n",
       "    <tr>\n",
       "      <th>4</th>\n",
       "      <td>1000 Stories Bourbon Barrel Aged Zinfandel 2014</td>\n",
       "      <td>NaN</td>\n",
       "      <td>California</td>\n",
       "      <td>Red Wine</td>\n",
       "      <td>90.0</td>\n",
       "      <td>Batch #004 is the first release of the 2014 vi...</td>\n",
       "    </tr>\n",
       "  </tbody>\n",
       "</table>\n",
       "</div>"
      ],
      "text/plain": [
       "                                                name  grape  \\\n",
       "0  1000 Stories Bourbon Barrel Aged Batch Blue Ca...    NaN   \n",
       "1  1000 Stories Bourbon Barrel Aged Gold Rush Red...    NaN   \n",
       "2  1000 Stories Bourbon Barrel Aged Gold Rush Red...    NaN   \n",
       "3    1000 Stories Bourbon Barrel Aged Zinfandel 2013    NaN   \n",
       "4    1000 Stories Bourbon Barrel Aged Zinfandel 2014    NaN   \n",
       "\n",
       "                    region   variety  rating  \\\n",
       "0    Mendocino, California  Red Wine    91.0   \n",
       "1               California  Red Wine    89.0   \n",
       "2               California  Red Wine    90.0   \n",
       "3  North Coast, California  Red Wine    91.0   \n",
       "4               California  Red Wine    90.0   \n",
       "\n",
       "                                               notes  \n",
       "0  This is a very special, limited release of 100...  \n",
       "1  The California Gold Rush was a period of coura...  \n",
       "2  The California Gold Rush was a period of coura...  \n",
       "3  The wine has a deep, rich purple color. An int...  \n",
       "4  Batch #004 is the first release of the 2014 vi...  "
      ]
     },
     "execution_count": 9,
     "metadata": {},
     "output_type": "execute_result"
    }
   ],
   "source": [
    "csv_url = \"https://raw.githubusercontent.com/paiml/wine-ratings/main/wine-ratings.csv\"\n",
    "df = pd.read_csv(csv_url, index_col = 0)\n",
    "df.head()"
   ]
  },
  {
   "cell_type": "code",
   "execution_count": 16,
   "metadata": {},
   "outputs": [
    {
     "data": {
      "text/html": [
       "<div>\n",
       "<style scoped>\n",
       "    .dataframe tbody tr th:only-of-type {\n",
       "        vertical-align: middle;\n",
       "    }\n",
       "\n",
       "    .dataframe tbody tr th {\n",
       "        vertical-align: top;\n",
       "    }\n",
       "\n",
       "    .dataframe thead th {\n",
       "        text-align: right;\n",
       "    }\n",
       "</style>\n",
       "<table border=\"1\" class=\"dataframe\">\n",
       "  <thead>\n",
       "    <tr style=\"text-align: right;\">\n",
       "      <th></th>\n",
       "      <th>name</th>\n",
       "      <th>grape</th>\n",
       "      <th>region</th>\n",
       "      <th>variety</th>\n",
       "      <th>rating</th>\n",
       "      <th>notes</th>\n",
       "      <th>good</th>\n",
       "    </tr>\n",
       "  </thead>\n",
       "  <tbody>\n",
       "    <tr>\n",
       "      <th>36</th>\n",
       "      <td>3 Rings Reserve Shiraz 2004</td>\n",
       "      <td>NaN</td>\n",
       "      <td>Barossa Valley, Barossa, South Australia, Aust...</td>\n",
       "      <td>Red Wine</td>\n",
       "      <td>96.0</td>\n",
       "      <td>Vintage Comments : Classic Barossa vintage con...</td>\n",
       "      <td>1</td>\n",
       "    </tr>\n",
       "    <tr>\n",
       "      <th>110</th>\n",
       "      <td>Aalto 2005</td>\n",
       "      <td>NaN</td>\n",
       "      <td>Ribera del Duero, Spain</td>\n",
       "      <td>Red Wine</td>\n",
       "      <td>95.0</td>\n",
       "      <td>The grapes come exclusively from old vineyards...</td>\n",
       "      <td>1</td>\n",
       "    </tr>\n",
       "    <tr>\n",
       "      <th>111</th>\n",
       "      <td>Aalto 2007</td>\n",
       "      <td>NaN</td>\n",
       "      <td>Ribera del Duero, Spain</td>\n",
       "      <td>Red Wine</td>\n",
       "      <td>95.0</td>\n",
       "      <td>It is ironic that one of the youngest properti...</td>\n",
       "      <td>1</td>\n",
       "    </tr>\n",
       "    <tr>\n",
       "      <th>113</th>\n",
       "      <td>Aalto 2008</td>\n",
       "      <td>NaN</td>\n",
       "      <td>Ribera del Duero, Spain</td>\n",
       "      <td>Red Wine</td>\n",
       "      <td>95.0</td>\n",
       "      <td>This wine's elegance and fruitful presence per...</td>\n",
       "      <td>1</td>\n",
       "    </tr>\n",
       "    <tr>\n",
       "      <th>121</th>\n",
       "      <td>Aalto 2016</td>\n",
       "      <td>NaN</td>\n",
       "      <td>Ribera del Duero, Spain</td>\n",
       "      <td>Red Wine</td>\n",
       "      <td>95.0</td>\n",
       "      <td>Deep purple red color, as corresponds to old T...</td>\n",
       "      <td>1</td>\n",
       "    </tr>\n",
       "  </tbody>\n",
       "</table>\n",
       "</div>"
      ],
      "text/plain": [
       "                            name  grape  \\\n",
       "36   3 Rings Reserve Shiraz 2004    NaN   \n",
       "110                   Aalto 2005    NaN   \n",
       "111                   Aalto 2007    NaN   \n",
       "113                   Aalto 2008    NaN   \n",
       "121                   Aalto 2016    NaN   \n",
       "\n",
       "                                                region   variety  rating  \\\n",
       "36   Barossa Valley, Barossa, South Australia, Aust...  Red Wine    96.0   \n",
       "110                            Ribera del Duero, Spain  Red Wine    95.0   \n",
       "111                            Ribera del Duero, Spain  Red Wine    95.0   \n",
       "113                            Ribera del Duero, Spain  Red Wine    95.0   \n",
       "121                            Ribera del Duero, Spain  Red Wine    95.0   \n",
       "\n",
       "                                                 notes  good  \n",
       "36   Vintage Comments : Classic Barossa vintage con...     1  \n",
       "110  The grapes come exclusively from old vineyards...     1  \n",
       "111  It is ironic that one of the youngest properti...     1  \n",
       "113  This wine's elegance and fruitful presence per...     1  \n",
       "121  Deep purple red color, as corresponds to old T...     1  "
      ]
     },
     "execution_count": 16,
     "metadata": {},
     "output_type": "execute_result"
    }
   ],
   "source": [
    "def good_wine(value):\n",
    "    if value > 94:\n",
    "        return 1\n",
    "    return 0\n",
    "\n",
    "df['good'] = df['rating'].apply(good_wine)\n",
    "df.query('rating > 94').head()"
   ]
  },
  {
   "attachments": {},
   "cell_type": "markdown",
   "metadata": {},
   "source": [
    "## Visualizing data with Pandas"
   ]
  },
  {
   "attachments": {},
   "cell_type": "markdown",
   "metadata": {},
   "source": [
    "matplotlib is able to produce meaningful data plots right in a notebook with little effort using Pandas Dataframes. This notebook covers a few of those capabilitites."
   ]
  },
  {
   "cell_type": "code",
   "execution_count": 17,
   "metadata": {},
   "outputs": [
    {
     "data": {
      "text/html": [
       "<div>\n",
       "<style scoped>\n",
       "    .dataframe tbody tr th:only-of-type {\n",
       "        vertical-align: middle;\n",
       "    }\n",
       "\n",
       "    .dataframe tbody tr th {\n",
       "        vertical-align: top;\n",
       "    }\n",
       "\n",
       "    .dataframe thead th {\n",
       "        text-align: right;\n",
       "    }\n",
       "</style>\n",
       "<table border=\"1\" class=\"dataframe\">\n",
       "  <thead>\n",
       "    <tr style=\"text-align: right;\">\n",
       "      <th></th>\n",
       "      <th>name</th>\n",
       "      <th>region</th>\n",
       "      <th>variety</th>\n",
       "      <th>rating</th>\n",
       "      <th>notes</th>\n",
       "    </tr>\n",
       "  </thead>\n",
       "  <tbody>\n",
       "    <tr>\n",
       "      <th>0</th>\n",
       "      <td>1000 Stories Bourbon Barrel Aged Batch Blue Ca...</td>\n",
       "      <td>Mendocino, California</td>\n",
       "      <td>Red Wine</td>\n",
       "      <td>91.0</td>\n",
       "      <td>This is a very special, limited release of 100...</td>\n",
       "    </tr>\n",
       "    <tr>\n",
       "      <th>1</th>\n",
       "      <td>1000 Stories Bourbon Barrel Aged Gold Rush Red...</td>\n",
       "      <td>California</td>\n",
       "      <td>Red Wine</td>\n",
       "      <td>89.0</td>\n",
       "      <td>The California Gold Rush was a period of coura...</td>\n",
       "    </tr>\n",
       "    <tr>\n",
       "      <th>2</th>\n",
       "      <td>1000 Stories Bourbon Barrel Aged Gold Rush Red...</td>\n",
       "      <td>California</td>\n",
       "      <td>Red Wine</td>\n",
       "      <td>90.0</td>\n",
       "      <td>The California Gold Rush was a period of coura...</td>\n",
       "    </tr>\n",
       "    <tr>\n",
       "      <th>3</th>\n",
       "      <td>1000 Stories Bourbon Barrel Aged Zinfandel 2013</td>\n",
       "      <td>North Coast, California</td>\n",
       "      <td>Red Wine</td>\n",
       "      <td>91.0</td>\n",
       "      <td>The wine has a deep, rich purple color. An int...</td>\n",
       "    </tr>\n",
       "    <tr>\n",
       "      <th>4</th>\n",
       "      <td>1000 Stories Bourbon Barrel Aged Zinfandel 2014</td>\n",
       "      <td>California</td>\n",
       "      <td>Red Wine</td>\n",
       "      <td>90.0</td>\n",
       "      <td>Batch #004 is the first release of the 2014 vi...</td>\n",
       "    </tr>\n",
       "  </tbody>\n",
       "</table>\n",
       "</div>"
      ],
      "text/plain": [
       "                                                name                   region  \\\n",
       "0  1000 Stories Bourbon Barrel Aged Batch Blue Ca...    Mendocino, California   \n",
       "1  1000 Stories Bourbon Barrel Aged Gold Rush Red...               California   \n",
       "2  1000 Stories Bourbon Barrel Aged Gold Rush Red...               California   \n",
       "3    1000 Stories Bourbon Barrel Aged Zinfandel 2013  North Coast, California   \n",
       "4    1000 Stories Bourbon Barrel Aged Zinfandel 2014               California   \n",
       "\n",
       "    variety  rating                                              notes  \n",
       "0  Red Wine    91.0  This is a very special, limited release of 100...  \n",
       "1  Red Wine    89.0  The California Gold Rush was a period of coura...  \n",
       "2  Red Wine    90.0  The California Gold Rush was a period of coura...  \n",
       "3  Red Wine    91.0  The wine has a deep, rich purple color. An int...  \n",
       "4  Red Wine    90.0  Batch #004 is the first release of the 2014 vi...  "
      ]
     },
     "execution_count": 17,
     "metadata": {},
     "output_type": "execute_result"
    }
   ],
   "source": [
    "csv_url = \"https://raw.githubusercontent.com/paiml/wine-ratings/main/wine-ratings.csv\"\n",
    "df = pd.read_csv(csv_url, index_col = 0)\n",
    "df.drop('grape', axis = 1, inplace = True)\n",
    "df = df.dropna()\n",
    "df.head()"
   ]
  },
  {
   "cell_type": "code",
   "execution_count": 18,
   "metadata": {},
   "outputs": [],
   "source": [
    "df['rating'] = df['rating'].apply(lambda x: int(x))"
   ]
  },
  {
   "cell_type": "code",
   "execution_count": 19,
   "metadata": {},
   "outputs": [
    {
     "data": {
      "text/plain": [
       "<AxesSubplot:>"
      ]
     },
     "execution_count": 19,
     "metadata": {},
     "output_type": "execute_result"
    },
    {
     "data": {
      "image/png": "[encoded data removed]",
      "text/plain": [
       "<Figure size 432x288 with 1 Axes>"
      ]
     },
     "metadata": {
      "needs_background": "light"
     },
     "output_type": "display_data"
    }
   ],
   "source": [
    "df.plot()"
   ]
  },
  {
   "cell_type": "code",
   "execution_count": 20,
   "metadata": {},
   "outputs": [
    {
     "data": {
      "text/plain": [
       "<AxesSubplot:>"
      ]
     },
     "execution_count": 20,
     "metadata": {},
     "output_type": "execute_result"
    },
    {
     "data": {
      "image/png": "[encoded data removed]",
      "text/plain": [
       "<Figure size 432x288 with 1 Axes>"
      ]
     },
     "metadata": {
      "needs_background": "light"
     },
     "output_type": "display_data"
    }
   ],
   "source": [
    "df[\"rating\"].plot()"
   ]
  },
  {
   "cell_type": "code",
   "execution_count": 25,
   "metadata": {},
   "outputs": [
    {
     "data": {
      "text/plain": [
       "<AxesSubplot:xlabel='rating', ylabel='variety'>"
      ]
     },
     "execution_count": 25,
     "metadata": {},
     "output_type": "execute_result"
    },
    {
     "data": {
      "image/png": "[encoded data removed]",
      "text/plain": [
       "<Figure size 432x288 with 1 Axes>"
      ]
     },
     "metadata": {
      "needs_background": "light"
     },
     "output_type": "display_data"
    }
   ],
   "source": [
    "df.plot.scatter(x = \"rating\", y = \"variety\", alpha = 0.5)"
   ]
  }
 ],
 "metadata": {
  "kernelspec": {
   "display_name": "base",
   "language": "python",
   "name": "python3"
  },
  "language_info": {
   "codemirror_mode": {
    "name": "ipython",
    "version": 3
   },
   "file_extension": ".py",
   "mimetype": "text/x-python",
   "name": "python",
   "nbconvert_exporter": "python",
   "pygments_lexer": "ipython3",
   "version": "3.9.12"
  },
  "orig_nbformat": 4
 },
 "nbformat": 4,
 "nbformat_minor": 2
}
