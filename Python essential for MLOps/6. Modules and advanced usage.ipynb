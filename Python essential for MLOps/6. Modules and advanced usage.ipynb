{
 "cells": [
  {
   "attachments": {},
   "cell_type": "markdown",
   "metadata": {},
   "source": [
    "# Modules and advanced usages"
   ]
  },
  {
   "attachments": {},
   "cell_type": "markdown",
   "metadata": {},
   "source": [
    "## Introduction to Python modules"
   ]
  },
  {
   "attachments": {},
   "cell_type": "markdown",
   "metadata": {},
   "source": [
    "Python modules are <span style=\"color:#CC0000\">.py</span> files where one can put functions, classes, and any other valid Python code.\n",
    "\n",
    "It is helpful to organize code. Spot categories or groupings if working with a large file. This is how a command-line tool might look like with modules:\n",
    "\n",
    "<pre style=\"color:#FF0000\">\n",
    "cli\n",
    "├── __init__.py\n",
    "├── engine.py\n",
    "├── exceptions.py\n",
    "├── main.py\n",
    "├── network.py\n",
    "├── parsing.py\n",
    "└── utils.py\n",
    "</pre>\n",
    "\n",
    "Avoid the temptation to put everything in a single file."
   ]
  },
  {
   "attachments": {},
   "cell_type": "markdown",
   "metadata": {},
   "source": [
    "## Working with imports"
   ]
  },
  {
   "attachments": {},
   "cell_type": "markdown",
   "metadata": {},
   "source": [
    "As a scripting language, Python relies on paths, files, and directories to figure out the namespace. Similar to when you create objects with classes, and then you have a dotted access to its attributes, you can have paths separated by dots in Python for modules."
   ]
  },
  {
   "attachments": {},
   "cell_type": "markdown",
   "metadata": {},
   "source": [
    "## Virtual environments and dependencies"
   ]
  },
  {
   "attachments": {},
   "cell_type": "markdown",
   "metadata": {},
   "source": [
    "In general, Python packaging installing dependencies and doing things with Python is kind of problematic."
   ]
  },
  {
   "attachments": {},
   "cell_type": "markdown",
   "metadata": {},
   "source": []
  },
  {
   "cell_type": "code",
   "execution_count": 13,
   "metadata": {},
   "outputs": [
    {
     "ename": "TypeError",
     "evalue": "Dog.bark() takes 0 positional arguments but 1 was given",
     "output_type": "error",
     "traceback": [
      "\u001b[1;31m---------------------------------------------------------------------------\u001b[0m",
      "\u001b[1;31mTypeError\u001b[0m                                 Traceback (most recent call last)",
      "Cell \u001b[1;32mIn[13], line 6\u001b[0m\n\u001b[0;32m      3\u001b[0m         \u001b[39mprint\u001b[39m(\u001b[39m\"\u001b[39m\u001b[39mwoof\u001b[39m\u001b[39m\"\u001b[39m)\n\u001b[0;32m      5\u001b[0m dog \u001b[39m=\u001b[39m Dog()\n\u001b[1;32m----> 6\u001b[0m dog\u001b[39m.\u001b[39;49mbark()\n",
      "\u001b[1;31mTypeError\u001b[0m: Dog.bark() takes 0 positional arguments but 1 was given"
     ]
    }
   ],
   "source": [
    "class Dog:\n",
    "    def bark():\n",
    "        print(\"woof\")\n",
    "\n",
    "dog = Dog()\n",
    "dog.bark()"
   ]
  },
  {
   "cell_type": "code",
   "execution_count": 12,
   "metadata": {},
   "outputs": [],
   "source": [
    "result"
   ]
  },
  {
   "attachments": {},
   "cell_type": "markdown",
   "metadata": {},
   "source": [
    "## Working with imports"
   ]
  }
 ],
 "metadata": {
  "kernelspec": {
   "display_name": "environment",
   "language": "python",
   "name": "python3"
  },
  "language_info": {
   "codemirror_mode": {
    "name": "ipython",
    "version": 3
   },
   "file_extension": ".py",
   "mimetype": "text/x-python",
   "name": "python",
   "nbconvert_exporter": "python",
   "pygments_lexer": "ipython3",
   "version": "3.10.10"
  },
  "orig_nbformat": 4
 },
 "nbformat": 4,
 "nbformat_minor": 2
}
