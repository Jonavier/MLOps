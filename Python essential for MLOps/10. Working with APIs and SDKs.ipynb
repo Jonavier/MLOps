{
 "cells": [
  {
   "attachments": {},
   "cell_type": "markdown",
   "metadata": {},
   "source": [
    "# Working with APIs and SDKs"
   ]
  },
  {
   "attachments": {},
   "cell_type": "markdown",
   "metadata": {},
   "source": [
    "APis and SDKs are tools that you will be most likely interact when you are building automation, interacting with the Cloud, trying to put everything together and help your ML operations environment to produce something that is reusable and automated and they will enhance and increase your confidence because of all of the automation.  "
   ]
  },
  {
   "attachments": {},
   "cell_type": "markdown",
   "metadata": {},
   "source": [
    "## Installing Azure Command-Line Interface (CLI)"
   ]
  },
  {
   "attachments": {},
   "cell_type": "markdown",
   "metadata": {},
   "source": [
    "After install Azure CLI (https://learn.microsoft.com/en-us/cli/azure/install-azure-cli-windows?tabs=azure-cli), you can check from termianl:\n",
    "\n",
    "* az --version: to see the version of azure-cli that is install.\n",
    "* az extension list: to list the extensions that are installed.\n",
    "* az extension add -n ml -y: to add the ml extension, that would allow to connect to machinery studio.\n",
    "* az ml --help: to obtain help about ml extension.\n",
    "* az login\n",
    "\n",
    "Additionally, in the environment is neccesary to install azureml-core"
   ]
  },
  {
   "attachments": {},
   "cell_type": "markdown",
   "metadata": {},
   "source": [
    "## AzureML Studio with Python"
   ]
  },
  {
   "cell_type": "code",
   "execution_count": 3,
   "metadata": {},
   "outputs": [],
   "source": [
    "import os\n",
    "import creds\n",
    "import azure.core\n",
    "\n",
    "from azureml.core import Workspace, Environment\n",
    "from azureml.core.compute import AmlCompute, ComputeTarget\n",
    "from azureml.core.compute_target import ComputeTargetException"
   ]
  },
  {
   "cell_type": "code",
   "execution_count": 5,
   "metadata": {},
   "outputs": [],
   "source": [
    "resource_name = \"Demo_RS\"\n",
    "workspace_name = \"Demo_WS\"\n",
    "aml_compute_target = \"demo-cluster\"\n",
    "experiment_name = \"demo_experiment\""
   ]
  },
  {
   "attachments": {},
   "cell_type": "markdown",
   "metadata": {},
   "source": [
    "### Create the workspace"
   ]
  },
  {
   "attachments": {},
   "cell_type": "markdown",
   "metadata": {},
   "source": [
    "Use the previously created configuration file to create the Azure ML workspace."
   ]
  },
  {
   "cell_type": "code",
   "execution_count": null,
   "metadata": {},
   "outputs": [],
   "source": [
    "try:\n",
    "    ws = Workspace.from_config()\n",
    "    print(\"Workspace is already exist\")\n",
    "except:\n",
    "    ws = Workspace.create(workspace_name,\n",
    "                          resource_group = resource_name,\n",
    "                          create_resource_group = True,\n",
    "                          subscription_id = creds.subscription_id,\n",
    "                          location = \"East US\")\n",
    "    ws.write_config(\".azureml\")"
   ]
  },
  {
   "cell_type": "code",
   "execution_count": null,
   "metadata": {},
   "outputs": [],
   "source": [
    "Workspace.from_config()"
   ]
  },
  {
   "cell_type": "code",
   "execution_count": 13,
   "metadata": {},
   "outputs": [
    {
     "name": "stdout",
     "output_type": "stream",
     "text": [
      "Creating new compute target : demo-cluster\n",
      "InProgress.......\n",
      "SucceededProvisioning operation finished, operation \"Succeeded\"\n",
      "Succeeded........................................\n",
      "AmlCompute wait for completion finished\n",
      "\n",
      "Minimum number of nodes requested have been provisioned\n",
      "Azure ML compute attached now\n"
     ]
    }
   ],
   "source": [
    "# Create compute target\n",
    "\n",
    "try:\n",
    "    aml_compute: AmlCompute(ws, aml_compute_target)\n",
    "    print(\"This compute target already exist\")\n",
    "except ComputeTargetException:\n",
    "    print(\"Creating new compute target :\", aml_compute_target)\n",
    "\n",
    "    provisioning_config = AmlCompute.provisioning_configuration(vm_size = \"STANDARD_D2_V2\",\n",
    "                                                                min_nodes = 1,\n",
    "                                                                max_nodes = 4,\n",
    "                                                                idle_seconds_before_scaledown = 3000)\n",
    "    aml_compute = ComputeTarget.create(ws, aml_compute_target, provisioning_config)\n",
    "    aml_compute.wait_for_completion(show_output = True, min_node_count = None, timeout_in_minutes = 20)\n",
    "\n",
    "print(\"Azure ML compute attached now\")"
   ]
  },
  {
   "attachments": {},
   "cell_type": "markdown",
   "metadata": {},
   "source": [
    "### Destro workspace and resources"
   ]
  },
  {
   "cell_type": "code",
   "execution_count": 14,
   "metadata": {},
   "outputs": [],
   "source": [
    "ws.delete(delete_dependent_resources = True, no_wait = False)"
   ]
  },
  {
   "attachments": {},
   "cell_type": "markdown",
   "metadata": {},
   "source": [
    "## Hugging Face Transformers"
   ]
  },
  {
   "attachments": {},
   "cell_type": "markdown",
   "metadata": {},
   "source": [
    "## Huggings Face Dataset"
   ]
  },
  {
   "attachments": {},
   "cell_type": "markdown",
   "metadata": {},
   "source": [
    "## Azure Open Datasets"
   ]
  }
 ],
 "metadata": {
  "kernelspec": {
   "display_name": "environment",
   "language": "python",
   "name": "python3"
  },
  "language_info": {
   "codemirror_mode": {
    "name": "ipython",
    "version": 3
   },
   "file_extension": ".py",
   "mimetype": "text/x-python",
   "name": "python",
   "nbconvert_exporter": "python",
   "pygments_lexer": "ipython3",
   "version": "3.9.12"
  },
  "orig_nbformat": 4
 },
 "nbformat": 4,
 "nbformat_minor": 2
}
