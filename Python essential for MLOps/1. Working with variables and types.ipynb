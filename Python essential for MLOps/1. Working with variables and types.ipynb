{
 "cells": [
  {
   "attachments": {},
   "cell_type": "markdown",
   "metadata": {},
   "source": [
    "# Working with variables and types"
   ]
  },
  {
   "attachments": {},
   "cell_type": "markdown",
   "metadata": {},
   "source": [
    "## Variables and assignment"
   ]
  },
  {
   "attachments": {},
   "cell_type": "markdown",
   "metadata": {},
   "source": [
    "Python is a programming language that is not strongly typed."
   ]
  },
  {
   "cell_type": "code",
   "execution_count": 3,
   "metadata": {},
   "outputs": [],
   "source": [
    "name = \"Jhonathan\"\n",
    "last_name = \"Rodríguez\""
   ]
  },
  {
   "cell_type": "code",
   "execution_count": 4,
   "metadata": {},
   "outputs": [],
   "source": [
    "height = 1000\n",
    "distance = 1.33\n",
    "date = \"Tuesday\""
   ]
  },
  {
   "attachments": {},
   "cell_type": "markdown",
   "metadata": {},
   "source": [
    "We can reassign variables."
   ]
  },
  {
   "cell_type": "code",
   "execution_count": 5,
   "metadata": {},
   "outputs": [
    {
     "name": "stdout",
     "output_type": "stream",
     "text": [
      "Javier\n"
     ]
    }
   ],
   "source": [
    "name = \"Javier\"\n",
    "print(name)"
   ]
  },
  {
   "cell_type": "code",
   "execution_count": 7,
   "metadata": {},
   "outputs": [
    {
     "name": "stdout",
     "output_type": "stream",
     "text": [
      "Javier Rodriguez\n"
     ]
    }
   ],
   "source": [
    "print(name, last_name)"
   ]
  },
  {
   "attachments": {},
   "cell_type": "markdown",
   "metadata": {},
   "source": [
    "Is possible to create new variables from the existing variables."
   ]
  },
  {
   "cell_type": "code",
   "execution_count": 8,
   "metadata": {},
   "outputs": [
    {
     "name": "stdout",
     "output_type": "stream",
     "text": [
      "Javier Rodriguez\n"
     ]
    }
   ],
   "source": [
    "full_name = f\"{name} {last_name}\"\n",
    "print(full_name)"
   ]
  },
  {
   "cell_type": "code",
   "execution_count": 17,
   "metadata": {},
   "outputs": [
    {
     "name": "stdout",
     "output_type": "stream",
     "text": [
      "My name isn't  Javier , my name is Jhonathan!\n",
      "My name isn't Javier, my name is Jhonathan!\n",
      "My name isn't Javier, my name is Jhonathan!\n"
     ]
    }
   ],
   "source": [
    "print(\"My name isn't \",  name, \", my name is Jhonathan!\")\n",
    "print(\"My name isn't \" + name + \", my name is Jhonathan!\")\n",
    "print(f\"My name isn't {name}, my name is Jhonathan!\")"
   ]
  },
  {
   "attachments": {},
   "cell_type": "markdown",
   "metadata": {},
   "source": [
    "## Working with different data types"
   ]
  },
  {
   "attachments": {},
   "cell_type": "markdown",
   "metadata": {},
   "source": [
    "The most common types that we will be working at:\n",
    "\n",
    "    - Strings\n",
    "    - Integers\n",
    "    - Floats\n",
    "    - Booleans\n",
    "    - None"
   ]
  },
  {
   "attachments": {},
   "cell_type": "markdown",
   "metadata": {},
   "source": [
    "### Strings"
   ]
  },
  {
   "attachments": {},
   "cell_type": "markdown",
   "metadata": {},
   "source": [
    "This are text representation in a programming languages. This can be assigned with single, double, and triples quotes. Triple quotes are useful when having a quotes within a string. Single quotes are useful when you have a double quotes and double quotes when you have a single quotes."
   ]
  },
  {
   "cell_type": "code",
   "execution_count": 2,
   "metadata": {},
   "outputs": [
    {
     "name": "stdout",
     "output_type": "stream",
     "text": [
      "Jhonathan Rodríguez\n",
      "Jhonathan Rodríguez\n",
      "Jhonathan Rodríguez\n"
     ]
    }
   ],
   "source": [
    "full_name_1 = 'Jhonathan Rodríguez'\n",
    "full_name_2 = 'Jhonathan Rodríguez'\n",
    "full_name_3 = \"\"\"Jhonathan Rodríguez\"\"\"\n",
    "\n",
    "print(full_name_1)\n",
    "print(full_name_2)\n",
    "print(full_name_3)"
   ]
  },
  {
   "cell_type": "code",
   "execution_count": 4,
   "metadata": {},
   "outputs": [
    {
     "name": "stdout",
     "output_type": "stream",
     "text": [
      "Triple quotes are useful when you have a ' or a \" within a string\n"
     ]
    }
   ],
   "source": [
    "triple_quotes = \"\"\"Triple quotes are useful when you have a ' or a \" within a string\"\"\"\n",
    "print(triple_quotes)"
   ]
  },
  {
   "cell_type": "code",
   "execution_count": 6,
   "metadata": {},
   "outputs": [
    {
     "name": "stdout",
     "output_type": "stream",
     "text": [
      "This course is taken by Jhonathan\n"
     ]
    }
   ],
   "source": [
    "name = \"Jhonathan\"\n",
    "result = \"This course is taken by \" + name\n",
    "print(result)"
   ]
  },
  {
   "attachments": {},
   "cell_type": "markdown",
   "metadata": {},
   "source": [
    "F strings is none other than using a string with this is prefixed with this F character and that allows us to use variables within the strings. It's a way of replacing values within the strings. The result is a string."
   ]
  },
  {
   "cell_type": "code",
   "execution_count": 7,
   "metadata": {},
   "outputs": [
    {
     "name": "stdout",
     "output_type": "stream",
     "text": [
      "This course is taken by Jhonathan\n"
     ]
    }
   ],
   "source": [
    "result = f\"This course is taken by {name}\"\n",
    "print(result)"
   ]
  },
  {
   "attachments": {},
   "cell_type": "markdown",
   "metadata": {},
   "source": [
    "### Integers"
   ]
  },
  {
   "attachments": {},
   "cell_type": "markdown",
   "metadata": {},
   "source": [
    "This are represented as *int*. They are always whole numbers and support numerical representation."
   ]
  },
  {
   "cell_type": "code",
   "execution_count": 8,
   "metadata": {},
   "outputs": [
    {
     "data": {
      "text/plain": [
       "int"
      ]
     },
     "execution_count": 8,
     "metadata": {},
     "output_type": "execute_result"
    }
   ],
   "source": [
    "type(15)"
   ]
  },
  {
   "cell_type": "code",
   "execution_count": 14,
   "metadata": {},
   "outputs": [
    {
     "name": "stdout",
     "output_type": "stream",
     "text": [
      "7.5\n",
      "<class 'float'>\n"
     ]
    }
   ],
   "source": [
    "print(15 / 2)\n",
    "print(type(15 / 2))"
   ]
  },
  {
   "attachments": {},
   "cell_type": "markdown",
   "metadata": {},
   "source": [
    "### Floats"
   ]
  },
  {
   "attachments": {},
   "cell_type": "markdown",
   "metadata": {},
   "source": [
    "They support mathematical operations as integers, but are represented as *float*. This accept the decimal part of a number."
   ]
  },
  {
   "cell_type": "code",
   "execution_count": 15,
   "metadata": {},
   "outputs": [
    {
     "data": {
      "text/plain": [
       "float"
      ]
     },
     "execution_count": 15,
     "metadata": {},
     "output_type": "execute_result"
    }
   ],
   "source": [
    "type(14.3)"
   ]
  },
  {
   "cell_type": "code",
   "execution_count": 16,
   "metadata": {},
   "outputs": [
    {
     "data": {
      "text/plain": [
       "3.1414141414141414"
      ]
     },
     "execution_count": 16,
     "metadata": {},
     "output_type": "execute_result"
    }
   ],
   "source": [
    "311 / 99"
   ]
  },
  {
   "attachments": {},
   "cell_type": "markdown",
   "metadata": {},
   "source": [
    "### Booleans"
   ]
  },
  {
   "attachments": {},
   "cell_type": "markdown",
   "metadata": {},
   "source": [
    "Are represented natively as **True** and **False**. Other types can represente true or false (often named truthy values) like 1 and 0. This is especially critical to grasp when working with conditionals. "
   ]
  },
  {
   "cell_type": "code",
   "execution_count": 17,
   "metadata": {},
   "outputs": [
    {
     "data": {
      "text/plain": [
       "bool"
      ]
     },
     "execution_count": 17,
     "metadata": {},
     "output_type": "execute_result"
    }
   ],
   "source": [
    "type(True)"
   ]
  },
  {
   "attachments": {},
   "cell_type": "markdown",
   "metadata": {},
   "source": [
    "### None"
   ]
  },
  {
   "attachments": {},
   "cell_type": "markdown",
   "metadata": {},
   "source": [
    "This indicates a null value. It's type is *NonType* and you might encounter it when running functions that don't return anything. However, you can still assign a None to variables."
   ]
  },
  {
   "cell_type": "code",
   "execution_count": 18,
   "metadata": {},
   "outputs": [
    {
     "data": {
      "text/plain": [
       "NoneType"
      ]
     },
     "execution_count": 18,
     "metadata": {},
     "output_type": "execute_result"
    }
   ],
   "source": [
    "type(None)"
   ]
  },
  {
   "attachments": {},
   "cell_type": "markdown",
   "metadata": {},
   "source": [
    "## Conditionals and evaluations"
   ]
  },
  {
   "attachments": {},
   "cell_type": "markdown",
   "metadata": {},
   "source": [
    "<span style=\"color:red\">if</span> is a keyword in Python. It allows us to set a certain condition and evaluate that condition and do some action depending on the result."
   ]
  },
  {
   "cell_type": "code",
   "execution_count": 20,
   "metadata": {},
   "outputs": [
    {
     "name": "stdout",
     "output_type": "stream",
     "text": [
      "The condition was met.\n"
     ]
    }
   ],
   "source": [
    "condition = True\n",
    "\n",
    "if condition:\n",
    "    print(\"The condition was met.\")"
   ]
  },
  {
   "cell_type": "code",
   "execution_count": 21,
   "metadata": {},
   "outputs": [],
   "source": [
    "condition = False\n",
    "\n",
    "if condition:\n",
    "    print(\"Was the condition met?\")"
   ]
  },
  {
   "attachments": {},
   "cell_type": "markdown",
   "metadata": {},
   "source": [
    "Some data structures are truthy. That means that when they're empty, they evaluate to false and true when they contain certain items."
   ]
  },
  {
   "cell_type": "code",
   "execution_count": 22,
   "metadata": {},
   "outputs": [
    {
     "name": "stdout",
     "output_type": "stream",
     "text": [
      "We have some invites!\n"
     ]
    }
   ],
   "source": [
    "groceries = []\n",
    "\n",
    "if groceries:\n",
    "    print(\"We have some groceries!\")\n",
    "\n",
    "invites = [\"John\", \"George\"]\n",
    "\n",
    "if invites:\n",
    "    print(\"We have some invites!\")"
   ]
  },
  {
   "attachments": {},
   "cell_type": "markdown",
   "metadata": {},
   "source": [
    "Other types like integers (0, and any positive integer) are truthy."
   ]
  },
  {
   "cell_type": "code",
   "execution_count": 23,
   "metadata": {},
   "outputs": [
    {
     "name": "stdout",
     "output_type": "stream",
     "text": [
      "We have parents!\n"
     ]
    }
   ],
   "source": [
    "properties = 0\n",
    "\n",
    "if properties:\n",
    "    print(\"We have properties!\")\n",
    "\n",
    "parents = 2\n",
    "\n",
    "if parents:\n",
    "    print(\"We have parents!\")"
   ]
  },
  {
   "cell_type": "code",
   "execution_count": 25,
   "metadata": {},
   "outputs": [
    {
     "name": "stdout",
     "output_type": "stream",
     "text": [
      "No properties!\n",
      "There is more than 1 parent.\n"
     ]
    }
   ],
   "source": [
    "if properties == 0:\n",
    "    print(\"No properties!\")\n",
    "\n",
    "if parents > 1:\n",
    "    print(\"There is more than 1 parent.\")"
   ]
  },
  {
   "attachments": {},
   "cell_type": "markdown",
   "metadata": {},
   "source": [
    "<span style=\"color:red\">else</span> condition is use when an if condition is not met. For rule, don't try to compound several if and else conditions and keep them to a minimum, it otherwise makes code haerder to read."
   ]
  },
  {
   "cell_type": "code",
   "execution_count": 27,
   "metadata": {},
   "outputs": [
    {
     "name": "stdout",
     "output_type": "stream",
     "text": [
      "We don't have any properties.\n"
     ]
    }
   ],
   "source": [
    "if properties:\n",
    "    print(\"We have properties.\")\n",
    "else:\n",
    "    print(\"We don't have any properties.\")"
   ]
  },
  {
   "attachments": {},
   "cell_type": "markdown",
   "metadata": {},
   "source": [
    "<span style=\"color:red\">elif</span> condition is useful when we want to add and else statement that needs to be mapped to a condition as well."
   ]
  },
  {
   "cell_type": "code",
   "execution_count": 29,
   "metadata": {},
   "outputs": [
    {
     "name": "stdout",
     "output_type": "stream",
     "text": [
      "We don't have any properties, but we have parents.\n"
     ]
    }
   ],
   "source": [
    "if properties:\n",
    "    print(\"We have properties.\")\n",
    "elif parents:\n",
    "    print(\"We don't have any properties, but we have parents.\")"
   ]
  },
  {
   "attachments": {},
   "cell_type": "markdown",
   "metadata": {},
   "source": [
    "### Negative conditions"
   ]
  },
  {
   "attachments": {},
   "cell_type": "markdown",
   "metadata": {},
   "source": [
    "By default, Python evaluates statements that are True. To represent a negative statement, you must add a <span style=\"color:red\">not</span>  keyword. Watch out for statement that use not as it can make it harder to read."
   ]
  },
  {
   "cell_type": "code",
   "execution_count": 30,
   "metadata": {},
   "outputs": [
    {
     "name": "stdout",
     "output_type": "stream",
     "text": [
      "Didn't get a name!\n"
     ]
    }
   ],
   "source": [
    "name = None\n",
    "\n",
    "if not name:\n",
    "    print(\"Didn't get a name!\")"
   ]
  },
  {
   "attachments": {},
   "cell_type": "markdown",
   "metadata": {},
   "source": [
    "### Compounding conditions with and"
   ]
  },
  {
   "attachments": {},
   "cell_type": "markdown",
   "metadata": {},
   "source": [
    "When multiple conditions must be met you can use <span style=\"color:red\">and</span> as well."
   ]
  },
  {
   "cell_type": "code",
   "execution_count": 31,
   "metadata": {},
   "outputs": [
    {
     "name": "stdout",
     "output_type": "stream",
     "text": [
      "This person is married and has kids.\n"
     ]
    }
   ],
   "source": [
    "has_kids = True\n",
    "married = True\n",
    "\n",
    "if has_kids and married:\n",
    "    print(\"This person is married and has kids.\")"
   ]
  },
  {
   "cell_type": "code",
   "execution_count": 32,
   "metadata": {},
   "outputs": [
    {
     "name": "stdout",
     "output_type": "stream",
     "text": [
      "User not logged in!\n"
     ]
    }
   ],
   "source": [
    "like_books = False\n",
    "is_logged_in = False\n",
    "\n",
    "if not like_books and not is_logged_in:\n",
    "    print(\"User not logged in!\")"
   ]
  },
  {
   "attachments": {},
   "cell_type": "markdown",
   "metadata": {},
   "source": [
    "## Catching and handling exceptions"
   ]
  },
  {
   "attachments": {},
   "cell_type": "markdown",
   "metadata": {},
   "source": [
    "Exceptions are how Python bubbles up or advertises errors in your program. "
   ]
  },
  {
   "attachments": {},
   "cell_type": "markdown",
   "metadata": {},
   "source": [
    "### How exceptions happen"
   ]
  },
  {
   "attachments": {},
   "cell_type": "markdown",
   "metadata": {},
   "source": [
    "They are created with invalid operations that Python itself raises, or they are generated from your own code."
   ]
  },
  {
   "cell_type": "code",
   "execution_count": 33,
   "metadata": {},
   "outputs": [
    {
     "ename": "ZeroDivisionError",
     "evalue": "division by zero",
     "output_type": "error",
     "traceback": [
      "\u001b[1;31m---------------------------------------------------------------------------\u001b[0m",
      "\u001b[1;31mZeroDivisionError\u001b[0m                         Traceback (most recent call last)",
      "Cell \u001b[1;32mIn[33], line 1\u001b[0m\n\u001b[1;32m----> 1\u001b[0m \u001b[39m14\u001b[39;49m \u001b[39m/\u001b[39;49m \u001b[39m0\u001b[39;49m\n",
      "\u001b[1;31mZeroDivisionError\u001b[0m: division by zero"
     ]
    }
   ],
   "source": [
    "14 / 0"
   ]
  },
  {
   "attachments": {},
   "cell_type": "markdown",
   "metadata": {},
   "source": [
    "We can generate an exception with the code."
   ]
  },
  {
   "cell_type": "code",
   "execution_count": 34,
   "metadata": {},
   "outputs": [
    {
     "ename": "RuntimeError",
     "evalue": "This is a problem!",
     "output_type": "error",
     "traceback": [
      "\u001b[1;31m---------------------------------------------------------------------------\u001b[0m",
      "\u001b[1;31mRuntimeError\u001b[0m                              Traceback (most recent call last)",
      "Cell \u001b[1;32mIn[34], line 1\u001b[0m\n\u001b[1;32m----> 1\u001b[0m \u001b[39mraise\u001b[39;00m \u001b[39mRuntimeError\u001b[39;00m(\u001b[39m\"\u001b[39m\u001b[39mThis is a problem!\u001b[39m\u001b[39m\"\u001b[39m)\n",
      "\u001b[1;31mRuntimeError\u001b[0m: This is a problem!"
     ]
    }
   ],
   "source": [
    "raise RuntimeError(\"This is a problem!\")"
   ]
  },
  {
   "attachments": {},
   "cell_type": "markdown",
   "metadata": {},
   "source": [
    "### Catching an exception"
   ]
  },
  {
   "attachments": {},
   "cell_type": "markdown",
   "metadata": {},
   "source": [
    "We can catch an excepction, but just catch exceptions that you're going to handle, that you know that certain situations are going to be able to be handled."
   ]
  },
  {
   "cell_type": "code",
   "execution_count": 36,
   "metadata": {},
   "outputs": [
    {
     "name": "stdout",
     "output_type": "stream",
     "text": [
      "7.0\n"
     ]
    }
   ],
   "source": [
    "try:\n",
    "    result = 14 / 0\n",
    "except ZeroDivisionError:\n",
    "    result = 14 / 2\n",
    "\n",
    "print(result)"
   ]
  },
  {
   "attachments": {},
   "cell_type": "markdown",
   "metadata": {},
   "source": [
    "### Catching multiple exceptions"
   ]
  },
  {
   "attachments": {},
   "cell_type": "markdown",
   "metadata": {},
   "source": [
    "We can group many exceptions when catching them as well as doing an assignment if needed."
   ]
  },
  {
   "cell_type": "code",
   "execution_count": 37,
   "metadata": {},
   "outputs": [
    {
     "ename": "TypeError",
     "evalue": "unsupported operand type(s) for +: 'float' and 'str'",
     "output_type": "error",
     "traceback": [
      "\u001b[1;31m---------------------------------------------------------------------------\u001b[0m",
      "\u001b[1;31mTypeError\u001b[0m                                 Traceback (most recent call last)",
      "Cell \u001b[1;32mIn[37], line 3\u001b[0m\n\u001b[0;32m      1\u001b[0m \u001b[39mtry\u001b[39;00m:\n\u001b[0;32m      2\u001b[0m     result \u001b[39m=\u001b[39m \u001b[39m14\u001b[39m \u001b[39m/\u001b[39m \u001b[39m2\u001b[39m\n\u001b[1;32m----> 3\u001b[0m     result \u001b[39m+\u001b[39;49m \u001b[39m\"\u001b[39;49m\u001b[39m100\u001b[39;49m\u001b[39m\"\u001b[39;49m\n\u001b[0;32m      4\u001b[0m \u001b[39mexcept\u001b[39;00m \u001b[39mZeroDivisionError\u001b[39;00m:\n\u001b[0;32m      5\u001b[0m     result \u001b[39m=\u001b[39m \u001b[39m14\u001b[39m \u001b[39m/\u001b[39m \u001b[39m2\u001b[39m\n",
      "\u001b[1;31mTypeError\u001b[0m: unsupported operand type(s) for +: 'float' and 'str'"
     ]
    }
   ],
   "source": [
    "try:\n",
    "    result = 14 / 2\n",
    "    result + \"100\"\n",
    "except ZeroDivisionError:\n",
    "    result = 14 / 2\n",
    "\n",
    "print(result)"
   ]
  },
  {
   "cell_type": "code",
   "execution_count": 38,
   "metadata": {},
   "outputs": [
    {
     "name": "stdout",
     "output_type": "stream",
     "text": [
      "7.0\n"
     ]
    }
   ],
   "source": [
    "try:\n",
    "    result = 14 / 2\n",
    "    result + \"100\"\n",
    "except (ZeroDivisionError, TypeError):\n",
    "    result = 14 / 2\n",
    "\n",
    "print(result)"
   ]
  },
  {
   "cell_type": "code",
   "execution_count": 39,
   "metadata": {},
   "outputs": [
    {
     "name": "stdout",
     "output_type": "stream",
     "text": [
      "got an error --> division by zero\n",
      "7.0\n"
     ]
    }
   ],
   "source": [
    "try:\n",
    "    result = 14 / 0\n",
    "except ZeroDivisionError as error:\n",
    "    print(f\"got an error --> {error}\")\n",
    "    result = 14 / 2\n",
    "\n",
    "print(result)"
   ]
  }
 ],
 "metadata": {
  "kernelspec": {
   "display_name": "environment",
   "language": "python",
   "name": "python3"
  },
  "language_info": {
   "codemirror_mode": {
    "name": "ipython",
    "version": 3
   },
   "file_extension": ".py",
   "mimetype": "text/x-python",
   "name": "python",
   "nbconvert_exporter": "python",
   "pygments_lexer": "ipython3",
   "version": "3.10.10"
  },
  "orig_nbformat": 4
 },
 "nbformat": 4,
 "nbformat_minor": 2
}
